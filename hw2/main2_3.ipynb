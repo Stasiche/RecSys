{
 "cells": [
  {
   "cell_type": "code",
   "execution_count": 1,
   "id": "cathedral-finding",
   "metadata": {},
   "outputs": [],
   "source": [
    "import pandas as pd\n",
    "import numpy as np"
   ]
  },
  {
   "cell_type": "code",
   "execution_count": 2,
   "id": "3d09227c",
   "metadata": {},
   "outputs": [],
   "source": [
    "from itertools import chain\n",
    "from tqdm.notebook import tqdm"
   ]
  },
  {
   "cell_type": "code",
   "execution_count": 3,
   "id": "90e16d1a",
   "metadata": {},
   "outputs": [],
   "source": [
    "from catboost import CatBoostRanker, Pool, MetricVisualizer\n",
    "from copy import deepcopy\n",
    "import numpy as np\n",
    "import os\n",
    "import pandas as pd\n",
    "import seaborn as sns\n",
    "from sklearn.model_selection import KFold, GroupKFold\n",
    "from typing import Tuple"
   ]
  },
  {
   "cell_type": "code",
   "execution_count": 4,
   "id": "a20e9a88",
   "metadata": {},
   "outputs": [],
   "source": [
    "import pandas as pd\n",
    "import numpy as np\n",
    "import seaborn as sns\n",
    "from tqdm.auto import tqdm, trange\n",
    "from sklearn.model_selection import GroupKFold, KFold\n",
    "from itertools import chain\n",
    "from tqdm.notebook import tqdm\n",
    "from gensim.models import Word2Vec\n",
    "import warnings\n",
    "from pandas.core.common import SettingWithCopyWarning\n",
    "\n",
    "warnings.simplefilter(action=\"ignore\", category=SettingWithCopyWarning)"
   ]
  },
  {
   "cell_type": "code",
   "execution_count": 5,
   "id": "dea309a2",
   "metadata": {},
   "outputs": [],
   "source": [
    "def check_song_id_in_vocab(song_id, songs_embeddings):\n",
    "    return song_id in songs_embeddings.wv"
   ]
  },
  {
   "cell_type": "code",
   "execution_count": 6,
   "id": "e87b6d2e",
   "metadata": {},
   "outputs": [],
   "source": [
    "def get_user_embedding(sub_data, songs_embeddings):\n",
    "    user_embeddings = {}\n",
    "    positive_sessions = dict(sub_data[sub_data.target == 1].groupby(\"msno\").song_id.apply(list))\n",
    "    \n",
    "    user_set = set(list(positive_sessions.keys()))\n",
    "    for user, user_positives in positive_sessions.items():\n",
    "        user_positives = [positive for positive in user_positives]\n",
    "        if len(user_positives) > 0:\n",
    "            user_embeddings[user] = songs_embeddings.wv[user_positives].mean(axis=0)\n",
    "        \n",
    "    return user_embeddings, user_set"
   ]
  },
  {
   "cell_type": "code",
   "execution_count": 7,
   "id": "9648b335",
   "metadata": {},
   "outputs": [],
   "source": [
    "def train_wv(sub_data):\n",
    "    with tqdm(total=1.0, desc='Training...') as pbar:\n",
    "        songs_ids, id_cnts = np.unique(sub_data.song_id, return_counts=True)\n",
    "        songs_ids = set(songs_ids[id_cnts>5])\n",
    "        pbar.update(0.1)    \n",
    "        \n",
    "        mask = [not(el in songs_ids) for el in sub_data.song_id]\n",
    "        sub_data.loc[mask, 'song_id'] = np.array(['unknonw']*sum(mask))\n",
    "        pbar.update(0.1)\n",
    "\n",
    "        sessions = dict(sub_data.groupby(\"msno\").song_id.apply(list))\n",
    "        sentences = [values for values in sessions.values() if len(values) > 0]\n",
    "        songs_embeddings = Word2Vec(sentences=sentences, vector_size=512, window=5, min_count=5, seed=0)\n",
    "        pbar.update(0.3)\n",
    "        \n",
    "        user_embeddings, user_set = get_user_embedding(sub_data, songs_embeddings)\n",
    "        pbar.update(0.5)\n",
    "        \n",
    "    return songs_embeddings, user_embeddings\n"
   ]
  },
  {
   "cell_type": "code",
   "execution_count": 8,
   "id": "82aaea9b",
   "metadata": {},
   "outputs": [],
   "source": [
    "def predict_wv(sub_data, songs_embeddings, user_embeddings):\n",
    "    with tqdm(total=1.0, desc='Prediction...') as pbar:\n",
    "        users_names = sub_data.msno.to_numpy()\n",
    "        songs_ids = sub_data.song_id.to_numpy()\n",
    "        pbar.update(0.01)\n",
    "        \n",
    "        unknown_songs_mask = np.array([not check_song_id_in_vocab(song, songs_embeddings) for song in songs_ids])\n",
    "        songs_ids[unknown_songs_mask] = np.array(['unknonw']*sum(unknown_songs_mask))\n",
    "        pbar.update(0.01)\n",
    "        \n",
    "        mask = np.array([(user in user_embeddings.keys()) for user in users_names])\n",
    "        \n",
    "        sub_embs_user = np.array([user_embeddings[el] for el in users_names[mask]])\n",
    "        sub_embs_song = np.array([songs_embeddings.wv[el] for el in songs_ids[mask]])\n",
    "        pbar.update(0.01)\n",
    "        \n",
    "\n",
    "        scores = np.zeros(len(sub_data))\n",
    "        # за даталик извиняюсь\n",
    "        scores[mask] = np.sum(sub_embs_user * sub_embs_song, axis=1)\n",
    "        pbar.update(0.97)\n",
    "        \n",
    "    return scores"
   ]
  },
  {
   "cell_type": "markdown",
   "id": "d17b7cde",
   "metadata": {},
   "source": [
    "По сути это должна быть третья часть второго задания -- совмещение бустинга и неклассического эмбединга, но почсчитать это мой компуктер отказался"
   ]
  },
  {
   "cell_type": "code",
   "execution_count": 9,
   "id": "likely-cleaning",
   "metadata": {},
   "outputs": [],
   "source": [
    "train = pd.read_csv('./data/train.csv')"
   ]
  },
  {
   "cell_type": "code",
   "execution_count": 10,
   "id": "0877fb99",
   "metadata": {},
   "outputs": [],
   "source": [
    "# train = train.iloc[:1_000]"
   ]
  },
  {
   "cell_type": "code",
   "execution_count": 11,
   "id": "5c6c7750",
   "metadata": {},
   "outputs": [],
   "source": [
    "train = train.sample(frac=0.05, axis='rows', random_state=0)"
   ]
  },
  {
   "cell_type": "code",
   "execution_count": 12,
   "id": "compressed-colombia",
   "metadata": {},
   "outputs": [
    {
     "data": {
      "text/html": [
       "<div>\n",
       "<style scoped>\n",
       "    .dataframe tbody tr th:only-of-type {\n",
       "        vertical-align: middle;\n",
       "    }\n",
       "\n",
       "    .dataframe tbody tr th {\n",
       "        vertical-align: top;\n",
       "    }\n",
       "\n",
       "    .dataframe thead th {\n",
       "        text-align: right;\n",
       "    }\n",
       "</style>\n",
       "<table border=\"1\" class=\"dataframe\">\n",
       "  <thead>\n",
       "    <tr style=\"text-align: right;\">\n",
       "      <th></th>\n",
       "      <th>msno</th>\n",
       "      <th>song_id</th>\n",
       "      <th>source_system_tab</th>\n",
       "      <th>source_screen_name</th>\n",
       "      <th>source_type</th>\n",
       "      <th>target</th>\n",
       "    </tr>\n",
       "  </thead>\n",
       "  <tbody>\n",
       "    <tr>\n",
       "      <th>4536199</th>\n",
       "      <td>/fmKR9lJaIZOXKAgvWfSUc98J4xrLOz4cDTfbUH2vII=</td>\n",
       "      <td>MEmRb1tG6yYgWqj5mIeD6yvlBlHxXBGd+B2GVqOk11s=</td>\n",
       "      <td>my library</td>\n",
       "      <td>Local playlist more</td>\n",
       "      <td>local-library</td>\n",
       "      <td>1</td>\n",
       "    </tr>\n",
       "    <tr>\n",
       "      <th>2588100</th>\n",
       "      <td>RfvJIue264ZuupwbTzj4yfOQwlFxPNMS04rmmN6+RjM=</td>\n",
       "      <td>VqOqrfMxAOMwJpyfUSyWuPmHpMtSuzvrCvHgahApvDU=</td>\n",
       "      <td>discover</td>\n",
       "      <td>Discover Chart</td>\n",
       "      <td>online-playlist</td>\n",
       "      <td>0</td>\n",
       "    </tr>\n",
       "    <tr>\n",
       "      <th>1650329</th>\n",
       "      <td>KGePN4/k3/dRQsm8IiEYC+xKdeyQWRSywGXwPvfOgmA=</td>\n",
       "      <td>Zvw99EYxPKoSRMfcZBphA5aDQYzzfb1Ltskg+qbGI9c=</td>\n",
       "      <td>my library</td>\n",
       "      <td>Album more</td>\n",
       "      <td>album</td>\n",
       "      <td>1</td>\n",
       "    </tr>\n",
       "    <tr>\n",
       "      <th>2732406</th>\n",
       "      <td>q7ONdFffmNFYlkISz5MKpChB8MqpYcUI11zyGdiq1SE=</td>\n",
       "      <td>aCJOGcsHyppvmZsZdBVvC3zPeMft04O7THsJL6fmREs=</td>\n",
       "      <td>discover</td>\n",
       "      <td>Album more</td>\n",
       "      <td>album</td>\n",
       "      <td>0</td>\n",
       "    </tr>\n",
       "    <tr>\n",
       "      <th>613088</th>\n",
       "      <td>sI8A/1rBr36JHPw/jwHNj+s87Advzb5F4lP/WzJz394=</td>\n",
       "      <td>0mTPQwHn7HN3w+2h0KbcWHblsMLtVIxwz7Au+/qrmdU=</td>\n",
       "      <td>my library</td>\n",
       "      <td>Local playlist more</td>\n",
       "      <td>local-playlist</td>\n",
       "      <td>1</td>\n",
       "    </tr>\n",
       "  </tbody>\n",
       "</table>\n",
       "</div>"
      ],
      "text/plain": [
       "                                                 msno  \\\n",
       "4536199  /fmKR9lJaIZOXKAgvWfSUc98J4xrLOz4cDTfbUH2vII=   \n",
       "2588100  RfvJIue264ZuupwbTzj4yfOQwlFxPNMS04rmmN6+RjM=   \n",
       "1650329  KGePN4/k3/dRQsm8IiEYC+xKdeyQWRSywGXwPvfOgmA=   \n",
       "2732406  q7ONdFffmNFYlkISz5MKpChB8MqpYcUI11zyGdiq1SE=   \n",
       "613088   sI8A/1rBr36JHPw/jwHNj+s87Advzb5F4lP/WzJz394=   \n",
       "\n",
       "                                              song_id source_system_tab  \\\n",
       "4536199  MEmRb1tG6yYgWqj5mIeD6yvlBlHxXBGd+B2GVqOk11s=        my library   \n",
       "2588100  VqOqrfMxAOMwJpyfUSyWuPmHpMtSuzvrCvHgahApvDU=          discover   \n",
       "1650329  Zvw99EYxPKoSRMfcZBphA5aDQYzzfb1Ltskg+qbGI9c=        my library   \n",
       "2732406  aCJOGcsHyppvmZsZdBVvC3zPeMft04O7THsJL6fmREs=          discover   \n",
       "613088   0mTPQwHn7HN3w+2h0KbcWHblsMLtVIxwz7Au+/qrmdU=        my library   \n",
       "\n",
       "          source_screen_name      source_type  target  \n",
       "4536199  Local playlist more    local-library       1  \n",
       "2588100       Discover Chart  online-playlist       0  \n",
       "1650329           Album more            album       1  \n",
       "2732406           Album more            album       0  \n",
       "613088   Local playlist more   local-playlist       1  "
      ]
     },
     "execution_count": 12,
     "metadata": {},
     "output_type": "execute_result"
    }
   ],
   "source": [
    "train.head()"
   ]
  },
  {
   "cell_type": "code",
   "execution_count": 13,
   "id": "difficult-producer",
   "metadata": {},
   "outputs": [],
   "source": [
    "members = pd.read_csv('./data/members.csv')"
   ]
  },
  {
   "cell_type": "code",
   "execution_count": 14,
   "id": "interested-cursor",
   "metadata": {},
   "outputs": [
    {
     "data": {
      "text/html": [
       "<div>\n",
       "<style scoped>\n",
       "    .dataframe tbody tr th:only-of-type {\n",
       "        vertical-align: middle;\n",
       "    }\n",
       "\n",
       "    .dataframe tbody tr th {\n",
       "        vertical-align: top;\n",
       "    }\n",
       "\n",
       "    .dataframe thead th {\n",
       "        text-align: right;\n",
       "    }\n",
       "</style>\n",
       "<table border=\"1\" class=\"dataframe\">\n",
       "  <thead>\n",
       "    <tr style=\"text-align: right;\">\n",
       "      <th></th>\n",
       "      <th>msno</th>\n",
       "      <th>city</th>\n",
       "      <th>bd</th>\n",
       "      <th>gender</th>\n",
       "      <th>registered_via</th>\n",
       "      <th>registration_init_time</th>\n",
       "      <th>expiration_date</th>\n",
       "    </tr>\n",
       "  </thead>\n",
       "  <tbody>\n",
       "    <tr>\n",
       "      <th>0</th>\n",
       "      <td>XQxgAYj3klVKjR3oxPPXYYFp4soD4TuBghkhMTD4oTw=</td>\n",
       "      <td>1</td>\n",
       "      <td>0</td>\n",
       "      <td>NaN</td>\n",
       "      <td>7</td>\n",
       "      <td>20110820</td>\n",
       "      <td>20170920</td>\n",
       "    </tr>\n",
       "    <tr>\n",
       "      <th>1</th>\n",
       "      <td>UizsfmJb9mV54qE9hCYyU07Va97c0lCRLEQX3ae+ztM=</td>\n",
       "      <td>1</td>\n",
       "      <td>0</td>\n",
       "      <td>NaN</td>\n",
       "      <td>7</td>\n",
       "      <td>20150628</td>\n",
       "      <td>20170622</td>\n",
       "    </tr>\n",
       "    <tr>\n",
       "      <th>2</th>\n",
       "      <td>D8nEhsIOBSoE6VthTaqDX8U6lqjJ7dLdr72mOyLya2A=</td>\n",
       "      <td>1</td>\n",
       "      <td>0</td>\n",
       "      <td>NaN</td>\n",
       "      <td>4</td>\n",
       "      <td>20160411</td>\n",
       "      <td>20170712</td>\n",
       "    </tr>\n",
       "    <tr>\n",
       "      <th>3</th>\n",
       "      <td>mCuD+tZ1hERA/o5GPqk38e041J8ZsBaLcu7nGoIIvhI=</td>\n",
       "      <td>1</td>\n",
       "      <td>0</td>\n",
       "      <td>NaN</td>\n",
       "      <td>9</td>\n",
       "      <td>20150906</td>\n",
       "      <td>20150907</td>\n",
       "    </tr>\n",
       "    <tr>\n",
       "      <th>4</th>\n",
       "      <td>q4HRBfVSssAFS9iRfxWrohxuk9kCYMKjHOEagUMV6rQ=</td>\n",
       "      <td>1</td>\n",
       "      <td>0</td>\n",
       "      <td>NaN</td>\n",
       "      <td>4</td>\n",
       "      <td>20170126</td>\n",
       "      <td>20170613</td>\n",
       "    </tr>\n",
       "  </tbody>\n",
       "</table>\n",
       "</div>"
      ],
      "text/plain": [
       "                                           msno  city  bd gender  \\\n",
       "0  XQxgAYj3klVKjR3oxPPXYYFp4soD4TuBghkhMTD4oTw=     1   0    NaN   \n",
       "1  UizsfmJb9mV54qE9hCYyU07Va97c0lCRLEQX3ae+ztM=     1   0    NaN   \n",
       "2  D8nEhsIOBSoE6VthTaqDX8U6lqjJ7dLdr72mOyLya2A=     1   0    NaN   \n",
       "3  mCuD+tZ1hERA/o5GPqk38e041J8ZsBaLcu7nGoIIvhI=     1   0    NaN   \n",
       "4  q4HRBfVSssAFS9iRfxWrohxuk9kCYMKjHOEagUMV6rQ=     1   0    NaN   \n",
       "\n",
       "   registered_via  registration_init_time  expiration_date  \n",
       "0               7                20110820         20170920  \n",
       "1               7                20150628         20170622  \n",
       "2               4                20160411         20170712  \n",
       "3               9                20150906         20150907  \n",
       "4               4                20170126         20170613  "
      ]
     },
     "execution_count": 14,
     "metadata": {},
     "output_type": "execute_result"
    }
   ],
   "source": [
    "members.head()"
   ]
  },
  {
   "cell_type": "code",
   "execution_count": 15,
   "id": "technological-cheat",
   "metadata": {},
   "outputs": [],
   "source": [
    "songs = pd.read_csv('./data/songs.csv')"
   ]
  },
  {
   "cell_type": "code",
   "execution_count": 16,
   "id": "mounted-registrar",
   "metadata": {},
   "outputs": [
    {
     "data": {
      "text/html": [
       "<div>\n",
       "<style scoped>\n",
       "    .dataframe tbody tr th:only-of-type {\n",
       "        vertical-align: middle;\n",
       "    }\n",
       "\n",
       "    .dataframe tbody tr th {\n",
       "        vertical-align: top;\n",
       "    }\n",
       "\n",
       "    .dataframe thead th {\n",
       "        text-align: right;\n",
       "    }\n",
       "</style>\n",
       "<table border=\"1\" class=\"dataframe\">\n",
       "  <thead>\n",
       "    <tr style=\"text-align: right;\">\n",
       "      <th></th>\n",
       "      <th>song_id</th>\n",
       "      <th>song_length</th>\n",
       "      <th>genre_ids</th>\n",
       "      <th>artist_name</th>\n",
       "      <th>composer</th>\n",
       "      <th>lyricist</th>\n",
       "      <th>language</th>\n",
       "    </tr>\n",
       "  </thead>\n",
       "  <tbody>\n",
       "    <tr>\n",
       "      <th>0</th>\n",
       "      <td>CXoTN1eb7AI+DntdU1vbcwGRV4SCIDxZu+YD8JP8r4E=</td>\n",
       "      <td>247640</td>\n",
       "      <td>465</td>\n",
       "      <td>張信哲 (Jeff Chang)</td>\n",
       "      <td>董貞</td>\n",
       "      <td>何啟弘</td>\n",
       "      <td>3.0</td>\n",
       "    </tr>\n",
       "    <tr>\n",
       "      <th>1</th>\n",
       "      <td>o0kFgae9QtnYgRkVPqLJwa05zIhRlUjfF7O1tDw0ZDU=</td>\n",
       "      <td>197328</td>\n",
       "      <td>444</td>\n",
       "      <td>BLACKPINK</td>\n",
       "      <td>TEDDY|  FUTURE BOUNCE|  Bekuh BOOM</td>\n",
       "      <td>TEDDY</td>\n",
       "      <td>31.0</td>\n",
       "    </tr>\n",
       "    <tr>\n",
       "      <th>2</th>\n",
       "      <td>DwVvVurfpuz+XPuFvucclVQEyPqcpUkHR0ne1RQzPs0=</td>\n",
       "      <td>231781</td>\n",
       "      <td>465</td>\n",
       "      <td>SUPER JUNIOR</td>\n",
       "      <td>NaN</td>\n",
       "      <td>NaN</td>\n",
       "      <td>31.0</td>\n",
       "    </tr>\n",
       "    <tr>\n",
       "      <th>3</th>\n",
       "      <td>dKMBWoZyScdxSkihKG+Vf47nc18N9q4m58+b4e7dSSE=</td>\n",
       "      <td>273554</td>\n",
       "      <td>465</td>\n",
       "      <td>S.H.E</td>\n",
       "      <td>湯小康</td>\n",
       "      <td>徐世珍</td>\n",
       "      <td>3.0</td>\n",
       "    </tr>\n",
       "    <tr>\n",
       "      <th>4</th>\n",
       "      <td>W3bqWd3T+VeHFzHAUfARgW9AvVRaF4N5Yzm4Mr6Eo/o=</td>\n",
       "      <td>140329</td>\n",
       "      <td>726</td>\n",
       "      <td>貴族精選</td>\n",
       "      <td>Traditional</td>\n",
       "      <td>Traditional</td>\n",
       "      <td>52.0</td>\n",
       "    </tr>\n",
       "  </tbody>\n",
       "</table>\n",
       "</div>"
      ],
      "text/plain": [
       "                                        song_id  song_length genre_ids  \\\n",
       "0  CXoTN1eb7AI+DntdU1vbcwGRV4SCIDxZu+YD8JP8r4E=       247640       465   \n",
       "1  o0kFgae9QtnYgRkVPqLJwa05zIhRlUjfF7O1tDw0ZDU=       197328       444   \n",
       "2  DwVvVurfpuz+XPuFvucclVQEyPqcpUkHR0ne1RQzPs0=       231781       465   \n",
       "3  dKMBWoZyScdxSkihKG+Vf47nc18N9q4m58+b4e7dSSE=       273554       465   \n",
       "4  W3bqWd3T+VeHFzHAUfARgW9AvVRaF4N5Yzm4Mr6Eo/o=       140329       726   \n",
       "\n",
       "        artist_name                            composer     lyricist  language  \n",
       "0  張信哲 (Jeff Chang)                                  董貞          何啟弘       3.0  \n",
       "1         BLACKPINK  TEDDY|  FUTURE BOUNCE|  Bekuh BOOM        TEDDY      31.0  \n",
       "2      SUPER JUNIOR                                 NaN          NaN      31.0  \n",
       "3             S.H.E                                 湯小康          徐世珍       3.0  \n",
       "4              貴族精選                         Traditional  Traditional      52.0  "
      ]
     },
     "execution_count": 16,
     "metadata": {},
     "output_type": "execute_result"
    }
   ],
   "source": [
    "songs.head()"
   ]
  },
  {
   "cell_type": "code",
   "execution_count": 17,
   "id": "accomplished-testament",
   "metadata": {},
   "outputs": [],
   "source": [
    "data = train.merge(members).merge(songs)"
   ]
  },
  {
   "cell_type": "code",
   "execution_count": 18,
   "id": "printable-paint",
   "metadata": {},
   "outputs": [
    {
     "data": {
      "text/html": [
       "<div>\n",
       "<style scoped>\n",
       "    .dataframe tbody tr th:only-of-type {\n",
       "        vertical-align: middle;\n",
       "    }\n",
       "\n",
       "    .dataframe tbody tr th {\n",
       "        vertical-align: top;\n",
       "    }\n",
       "\n",
       "    .dataframe thead th {\n",
       "        text-align: right;\n",
       "    }\n",
       "</style>\n",
       "<table border=\"1\" class=\"dataframe\">\n",
       "  <thead>\n",
       "    <tr style=\"text-align: right;\">\n",
       "      <th></th>\n",
       "      <th>msno</th>\n",
       "      <th>song_id</th>\n",
       "      <th>source_system_tab</th>\n",
       "      <th>source_screen_name</th>\n",
       "      <th>source_type</th>\n",
       "      <th>target</th>\n",
       "      <th>city</th>\n",
       "      <th>bd</th>\n",
       "      <th>gender</th>\n",
       "      <th>registered_via</th>\n",
       "      <th>registration_init_time</th>\n",
       "      <th>expiration_date</th>\n",
       "      <th>song_length</th>\n",
       "      <th>genre_ids</th>\n",
       "      <th>artist_name</th>\n",
       "      <th>composer</th>\n",
       "      <th>lyricist</th>\n",
       "      <th>language</th>\n",
       "    </tr>\n",
       "  </thead>\n",
       "  <tbody>\n",
       "    <tr>\n",
       "      <th>0</th>\n",
       "      <td>/fmKR9lJaIZOXKAgvWfSUc98J4xrLOz4cDTfbUH2vII=</td>\n",
       "      <td>MEmRb1tG6yYgWqj5mIeD6yvlBlHxXBGd+B2GVqOk11s=</td>\n",
       "      <td>my library</td>\n",
       "      <td>Local playlist more</td>\n",
       "      <td>local-library</td>\n",
       "      <td>1</td>\n",
       "      <td>15</td>\n",
       "      <td>27</td>\n",
       "      <td>male</td>\n",
       "      <td>9</td>\n",
       "      <td>20070427</td>\n",
       "      <td>20171021</td>\n",
       "      <td>233116</td>\n",
       "      <td>465</td>\n",
       "      <td>黃立行 (Stanley Huang)</td>\n",
       "      <td>NaN</td>\n",
       "      <td>NaN</td>\n",
       "      <td>3.0</td>\n",
       "    </tr>\n",
       "    <tr>\n",
       "      <th>1</th>\n",
       "      <td>DZrCPrl7mH1J2X8aMCrq+DzeE3DT+mjNIsLKOZfwUg4=</td>\n",
       "      <td>MEmRb1tG6yYgWqj5mIeD6yvlBlHxXBGd+B2GVqOk11s=</td>\n",
       "      <td>radio</td>\n",
       "      <td>Local playlist more</td>\n",
       "      <td>local-library</td>\n",
       "      <td>1</td>\n",
       "      <td>14</td>\n",
       "      <td>26</td>\n",
       "      <td>female</td>\n",
       "      <td>9</td>\n",
       "      <td>20060303</td>\n",
       "      <td>20171019</td>\n",
       "      <td>233116</td>\n",
       "      <td>465</td>\n",
       "      <td>黃立行 (Stanley Huang)</td>\n",
       "      <td>NaN</td>\n",
       "      <td>NaN</td>\n",
       "      <td>3.0</td>\n",
       "    </tr>\n",
       "    <tr>\n",
       "      <th>2</th>\n",
       "      <td>XFpHXorosYn0RcJ6ouV8D8LRowIxmlB9Bm6C7Y0QCV8=</td>\n",
       "      <td>MEmRb1tG6yYgWqj5mIeD6yvlBlHxXBGd+B2GVqOk11s=</td>\n",
       "      <td>explore</td>\n",
       "      <td>NaN</td>\n",
       "      <td>top-hits-for-artist</td>\n",
       "      <td>0</td>\n",
       "      <td>22</td>\n",
       "      <td>25</td>\n",
       "      <td>male</td>\n",
       "      <td>3</td>\n",
       "      <td>20150927</td>\n",
       "      <td>20170820</td>\n",
       "      <td>233116</td>\n",
       "      <td>465</td>\n",
       "      <td>黃立行 (Stanley Huang)</td>\n",
       "      <td>NaN</td>\n",
       "      <td>NaN</td>\n",
       "      <td>3.0</td>\n",
       "    </tr>\n",
       "    <tr>\n",
       "      <th>3</th>\n",
       "      <td>prVac5s/C5LGKkK9KAhMrRL/8jbVzRla5H7UK3DV6DA=</td>\n",
       "      <td>MEmRb1tG6yYgWqj5mIeD6yvlBlHxXBGd+B2GVqOk11s=</td>\n",
       "      <td>discover</td>\n",
       "      <td>Artist more</td>\n",
       "      <td>top-hits-for-artist</td>\n",
       "      <td>1</td>\n",
       "      <td>22</td>\n",
       "      <td>26</td>\n",
       "      <td>male</td>\n",
       "      <td>7</td>\n",
       "      <td>20121105</td>\n",
       "      <td>20170930</td>\n",
       "      <td>233116</td>\n",
       "      <td>465</td>\n",
       "      <td>黃立行 (Stanley Huang)</td>\n",
       "      <td>NaN</td>\n",
       "      <td>NaN</td>\n",
       "      <td>3.0</td>\n",
       "    </tr>\n",
       "    <tr>\n",
       "      <th>4</th>\n",
       "      <td>t3UHw5H0ejQ1Zg2MVNclxVL+7+m0iLzOnTTfs/3LpHY=</td>\n",
       "      <td>MEmRb1tG6yYgWqj5mIeD6yvlBlHxXBGd+B2GVqOk11s=</td>\n",
       "      <td>listen with</td>\n",
       "      <td>Others profile more</td>\n",
       "      <td>listen-with</td>\n",
       "      <td>0</td>\n",
       "      <td>15</td>\n",
       "      <td>32</td>\n",
       "      <td>male</td>\n",
       "      <td>9</td>\n",
       "      <td>20080617</td>\n",
       "      <td>20180413</td>\n",
       "      <td>233116</td>\n",
       "      <td>465</td>\n",
       "      <td>黃立行 (Stanley Huang)</td>\n",
       "      <td>NaN</td>\n",
       "      <td>NaN</td>\n",
       "      <td>3.0</td>\n",
       "    </tr>\n",
       "  </tbody>\n",
       "</table>\n",
       "</div>"
      ],
      "text/plain": [
       "                                           msno  \\\n",
       "0  /fmKR9lJaIZOXKAgvWfSUc98J4xrLOz4cDTfbUH2vII=   \n",
       "1  DZrCPrl7mH1J2X8aMCrq+DzeE3DT+mjNIsLKOZfwUg4=   \n",
       "2  XFpHXorosYn0RcJ6ouV8D8LRowIxmlB9Bm6C7Y0QCV8=   \n",
       "3  prVac5s/C5LGKkK9KAhMrRL/8jbVzRla5H7UK3DV6DA=   \n",
       "4  t3UHw5H0ejQ1Zg2MVNclxVL+7+m0iLzOnTTfs/3LpHY=   \n",
       "\n",
       "                                        song_id source_system_tab  \\\n",
       "0  MEmRb1tG6yYgWqj5mIeD6yvlBlHxXBGd+B2GVqOk11s=        my library   \n",
       "1  MEmRb1tG6yYgWqj5mIeD6yvlBlHxXBGd+B2GVqOk11s=             radio   \n",
       "2  MEmRb1tG6yYgWqj5mIeD6yvlBlHxXBGd+B2GVqOk11s=           explore   \n",
       "3  MEmRb1tG6yYgWqj5mIeD6yvlBlHxXBGd+B2GVqOk11s=          discover   \n",
       "4  MEmRb1tG6yYgWqj5mIeD6yvlBlHxXBGd+B2GVqOk11s=       listen with   \n",
       "\n",
       "    source_screen_name          source_type  target  city  bd  gender  \\\n",
       "0  Local playlist more        local-library       1    15  27    male   \n",
       "1  Local playlist more        local-library       1    14  26  female   \n",
       "2                  NaN  top-hits-for-artist       0    22  25    male   \n",
       "3          Artist more  top-hits-for-artist       1    22  26    male   \n",
       "4  Others profile more          listen-with       0    15  32    male   \n",
       "\n",
       "   registered_via  registration_init_time  expiration_date  song_length  \\\n",
       "0               9                20070427         20171021       233116   \n",
       "1               9                20060303         20171019       233116   \n",
       "2               3                20150927         20170820       233116   \n",
       "3               7                20121105         20170930       233116   \n",
       "4               9                20080617         20180413       233116   \n",
       "\n",
       "  genre_ids          artist_name composer lyricist  language  \n",
       "0       465  黃立行 (Stanley Huang)      NaN      NaN       3.0  \n",
       "1       465  黃立行 (Stanley Huang)      NaN      NaN       3.0  \n",
       "2       465  黃立行 (Stanley Huang)      NaN      NaN       3.0  \n",
       "3       465  黃立行 (Stanley Huang)      NaN      NaN       3.0  \n",
       "4       465  黃立行 (Stanley Huang)      NaN      NaN       3.0  "
      ]
     },
     "execution_count": 18,
     "metadata": {},
     "output_type": "execute_result"
    }
   ],
   "source": [
    "data.head()"
   ]
  },
  {
   "cell_type": "code",
   "execution_count": 19,
   "id": "1098fcc0",
   "metadata": {},
   "outputs": [],
   "source": [
    "del songs, members"
   ]
  },
  {
   "cell_type": "code",
   "execution_count": null,
   "id": "bd40e853",
   "metadata": {},
   "outputs": [],
   "source": []
  },
  {
   "cell_type": "code",
   "execution_count": 20,
   "id": "7e92a0b0",
   "metadata": {},
   "outputs": [],
   "source": [
    "mask = ~data.gender.str.contains(r'male', na=False)\n",
    "\n",
    "data.loc[mask, 'gender'] = pd.Series(['na']*mask.sum(), name='gender', index=mask[mask].index)"
   ]
  },
  {
   "cell_type": "code",
   "execution_count": 21,
   "id": "96ce3147",
   "metadata": {},
   "outputs": [
    {
     "data": {
      "text/plain": [
       "msno                           0\n",
       "song_id                        0\n",
       "source_system_tab           1293\n",
       "source_screen_name         20736\n",
       "source_type                 1157\n",
       "target                         0\n",
       "city                           0\n",
       "bd                             0\n",
       "gender                         0\n",
       "registered_via                 0\n",
       "registration_init_time         0\n",
       "expiration_date                0\n",
       "song_length                    0\n",
       "genre_ids                   5994\n",
       "artist_name                    0\n",
       "composer                   83756\n",
       "lyricist                  158945\n",
       "language                       0\n",
       "dtype: int64"
      ]
     },
     "execution_count": 21,
     "metadata": {},
     "output_type": "execute_result"
    }
   ],
   "source": [
    "data.isna().sum(0)"
   ]
  },
  {
   "cell_type": "code",
   "execution_count": 22,
   "id": "a87e9e91",
   "metadata": {},
   "outputs": [],
   "source": [
    "# точный возраст знать не обязательно -- разделим на условные \"поколения\"\n",
    "mask=(data.bd < 10) | (data.bd >= 80)\n",
    "young = (data.bd >= 10) & (data.bd < 20)\n",
    "middle = (data.bd >= 20) & (data.bd < 40)\n",
    "adult = (data.bd >= 40) & (data.bd < 60)\n",
    "old = (data.bd >= 60) & (data.bd < 80)\n",
    "\n",
    "data.loc[mask, 'bd'] = 'na'\n",
    "data.loc[young, 'bd'] = 'young'\n",
    "data.loc[middle, 'bd'] = 'middle'\n",
    "data.loc[adult, 'bd'] = 'adult'\n",
    "data.loc[old, 'bd'] = 'old'"
   ]
  },
  {
   "cell_type": "code",
   "execution_count": 23,
   "id": "7e3833f0",
   "metadata": {},
   "outputs": [],
   "source": [
    "data.loc[data.language==-1, 'language'] = 'na'\n",
    "data.language = data.language.apply(lambda x: str(x))"
   ]
  },
  {
   "cell_type": "code",
   "execution_count": 24,
   "id": "ee90f7bb",
   "metadata": {},
   "outputs": [],
   "source": [
    "data.fillna('na', inplace=True)"
   ]
  },
  {
   "cell_type": "code",
   "execution_count": 25,
   "id": "5a279006",
   "metadata": {},
   "outputs": [],
   "source": [
    "class GenresEnconding:\n",
    "    def __init__(self, bins_number: int):\n",
    "        self.labels = None\n",
    "        self.id_to_indx = None\n",
    "        self.indx_to_id = None\n",
    "        self.bins_number = bins_number\n",
    "        self.bins_size = None\n",
    "    \n",
    "    def fit(self, X: np.ndarray):\n",
    "        self.labels = np.unique(list(chain(*[el.split('|') for el in X])))\n",
    "        self.bins_size = len(self.labels) // self.bins_number + 1\n",
    "        \n",
    "        self.id_to_indx = {genre_id: i for i, genre_id in enumerate(self.labels)}\n",
    "        self.indx_to_id = {i: genre_id for genre_id, i  in self.id_to_indx.items()}\n",
    "        return self\n",
    "        \n",
    "    def transform(self, X: np.ndarray):\n",
    "        result = np.zeros((len(X), self.bins_number))\n",
    "        for i, genre_ids in enumerate(tqdm(X)):\n",
    "            indxs = [self.id_to_indx.get(genre_id, self.id_to_indx['na']) for genre_id in genre_ids.split('|')]\n",
    "            bin_enc = np.zeros(len(self.labels))\n",
    "            bin_enc[indxs] = 1\n",
    "            for b in range(self.bins_number):\n",
    "                result[i, b] = np.power(2, bin_enc[b*self.bins_size:(b+1)*self.bins_size])[None,:] @ bin_enc[b*self.bins_size:(b+1)*self.bins_size]\n",
    "        return result\n",
    "        \n",
    "    def fit_transform(self, X: np.ndarray):\n",
    "        return self.fit(X).transform(X)\n",
    "    "
   ]
  },
  {
   "cell_type": "code",
   "execution_count": null,
   "id": "1b9670d9",
   "metadata": {},
   "outputs": [],
   "source": []
  },
  {
   "cell_type": "code",
   "execution_count": 26,
   "id": "5b617337",
   "metadata": {},
   "outputs": [
    {
     "data": {
      "application/vnd.jupyter.widget-view+json": {
       "model_id": "0657c7deb7864bc8bd2dbdb61f843045",
       "version_major": 2,
       "version_minor": 0
      },
      "text/plain": [
       "  0%|          | 0/368863 [00:00<?, ?it/s]"
      ]
     },
     "metadata": {},
     "output_type": "display_data"
    }
   ],
   "source": [
    "# Вахнот по жанрам добавляет слишком много фичей, так что сгруппируем ванхоты в группы битов и превратим их в десятичное число\n",
    "ge = GenresEnconding(5)\n",
    "genres_encodes = ge.fit_transform(data.genre_ids.values)"
   ]
  },
  {
   "cell_type": "code",
   "execution_count": 27,
   "id": "711fb0a6",
   "metadata": {},
   "outputs": [],
   "source": [
    "genres_encodes_df = pd.DataFrame(genres_encodes, columns=[f'genre_bin_{i}' for i in range(ge.bins_number)])"
   ]
  },
  {
   "cell_type": "code",
   "execution_count": 28,
   "id": "ead4ffee",
   "metadata": {},
   "outputs": [],
   "source": [
    "data = pd.concat([data.drop(columns=['genre_ids']), genres_encodes_df], axis=1)"
   ]
  },
  {
   "cell_type": "code",
   "execution_count": 29,
   "id": "52ff4a93",
   "metadata": {},
   "outputs": [],
   "source": [
    "del ge, genres_encodes"
   ]
  },
  {
   "cell_type": "code",
   "execution_count": 30,
   "id": "92b1e14a",
   "metadata": {},
   "outputs": [
    {
     "data": {
      "text/plain": [
       "msno                      0\n",
       "song_id                   0\n",
       "source_system_tab         0\n",
       "source_screen_name        0\n",
       "source_type               0\n",
       "target                    0\n",
       "city                      0\n",
       "bd                        0\n",
       "gender                    0\n",
       "registered_via            0\n",
       "registration_init_time    0\n",
       "expiration_date           0\n",
       "song_length               0\n",
       "artist_name               0\n",
       "composer                  0\n",
       "lyricist                  0\n",
       "language                  0\n",
       "genre_bin_0               0\n",
       "genre_bin_1               0\n",
       "genre_bin_2               0\n",
       "genre_bin_3               0\n",
       "genre_bin_4               0\n",
       "dtype: int64"
      ]
     },
     "execution_count": 30,
     "metadata": {},
     "output_type": "execute_result"
    }
   ],
   "source": [
    "data.isna().sum(0)"
   ]
  },
  {
   "cell_type": "code",
   "execution_count": 31,
   "id": "8b097d23",
   "metadata": {},
   "outputs": [
    {
     "data": {
      "text/plain": [
       "Index(['msno', 'song_id', 'source_system_tab', 'source_screen_name',\n",
       "       'source_type', 'target', 'city', 'bd', 'gender', 'registered_via',\n",
       "       'registration_init_time', 'expiration_date', 'song_length',\n",
       "       'artist_name', 'composer', 'lyricist', 'language', 'genre_bin_0',\n",
       "       'genre_bin_1', 'genre_bin_2', 'genre_bin_3', 'genre_bin_4'],\n",
       "      dtype='object')"
      ]
     },
     "execution_count": 31,
     "metadata": {},
     "output_type": "execute_result"
    }
   ],
   "source": [
    "data.columns"
   ]
  },
  {
   "cell_type": "code",
   "execution_count": 32,
   "id": "induced-nerve",
   "metadata": {},
   "outputs": [],
   "source": [
    "data.sort_values(\"msno\", kind=\"stable\", inplace=True)"
   ]
  },
  {
   "cell_type": "code",
   "execution_count": 33,
   "id": "041c0d33",
   "metadata": {},
   "outputs": [],
   "source": [
    "data = data.groupby('msno').head(1023)"
   ]
  },
  {
   "cell_type": "code",
   "execution_count": 34,
   "id": "493fc47d",
   "metadata": {},
   "outputs": [],
   "source": [
    "cat_feat_named = ['song_id', 'source_system_tab', 'source_screen_name',\n",
    "       'source_type', 'city', 'bd', 'gender', 'registered_via',\n",
    "       'artist_name', 'composer', 'lyricist', 'language']\n",
    "\n",
    "noncat_features = ['song_length', 'genre_bin_0','genre_bin_1', 'genre_bin_2', 'genre_bin_3', 'genre_bin_4']"
   ]
  },
  {
   "cell_type": "code",
   "execution_count": 35,
   "id": "f1c3edbc",
   "metadata": {},
   "outputs": [],
   "source": [
    "cat_features = [i for i in range(len(cat_feat_named))]"
   ]
  },
  {
   "cell_type": "code",
   "execution_count": 36,
   "id": "4906a247",
   "metadata": {},
   "outputs": [],
   "source": [
    "X = data[cat_feat_named+noncat_features].values\n",
    "y = data['target'].values\n",
    "queries = data['msno'].values"
   ]
  },
  {
   "cell_type": "code",
   "execution_count": 37,
   "id": "c96ea55f",
   "metadata": {},
   "outputs": [],
   "source": [
    "def get_split(train_indxs: np.ndarray, test_indxs: np.ndarray)-> Tuple[np.ndarray,np.ndarray,np.ndarray,np.ndarray,np.ndarray,np.ndarray]:\n",
    "    X_train, X_test = X[train_indxs], X[test_indxs]\n",
    "    y_train, y_test = y[train_indxs], y[test_indxs]\n",
    "    queries_train, queries_test = queries[train_indxs], queries[test_indxs]\n",
    "    \n",
    "    return X_train, y_train, queries_train, X_test, y_test, queries_test"
   ]
  },
  {
   "cell_type": "code",
   "execution_count": 38,
   "id": "56c15491",
   "metadata": {},
   "outputs": [],
   "source": [
    "parameters = {\n",
    "    'iterations': 2000,\n",
    "    'custom_metric': [\"QueryAUC:type=Ranking\"],\n",
    "    'verbose': False ,\n",
    "    'random_seed': 0,\n",
    "    'metric_period': 15, \n",
    "    'task_type': 'GPU',\n",
    "    'loss_function': 'YetiRank',\n",
    "    'train_dir': 'YetiRank/'\n",
    "}"
   ]
  },
  {
   "cell_type": "code",
   "execution_count": 39,
   "id": "a4a062fc",
   "metadata": {},
   "outputs": [
    {
     "data": {
      "application/vnd.jupyter.widget-view+json": {
       "model_id": "bfa1663ee74f471b9f639b910431e4cf",
       "version_major": 2,
       "version_minor": 0
      },
      "text/plain": [
       "Training...:   0%|          | 0/1.0 [00:00<?, ?it/s]"
      ]
     },
     "metadata": {},
     "output_type": "display_data"
    },
    {
     "data": {
      "application/vnd.jupyter.widget-view+json": {
       "model_id": "51f4c6bd6d754c28b39ff6e7f7ab7264",
       "version_major": 2,
       "version_minor": 0
      },
      "text/plain": [
       "Prediction...:   0%|          | 0/1.0 [00:00<?, ?it/s]"
      ]
     },
     "metadata": {},
     "output_type": "display_data"
    },
    {
     "data": {
      "application/vnd.jupyter.widget-view+json": {
       "model_id": "cde2f8f00c8a4818bed251d60993eff2",
       "version_major": 2,
       "version_minor": 0
      },
      "text/plain": [
       "Prediction...:   0%|          | 0/1.0 [00:00<?, ?it/s]"
      ]
     },
     "metadata": {},
     "output_type": "display_data"
    },
    {
     "data": {
      "application/vnd.jupyter.widget-view+json": {
       "model_id": "eca919487a91405abeb7a09212b35c42",
       "version_major": 2,
       "version_minor": 0
      },
      "text/plain": [
       "MetricVisualizer(layout=Layout(align_self='stretch', height='500px'))"
      ]
     },
     "metadata": {},
     "output_type": "display_data"
    },
    {
     "name": "stderr",
     "output_type": "stream",
     "text": [
      "Metric PFound is not implemented on GPU. Will use CPU for metric computation, this could significantly affect learning time\n",
      "Metric PFound is not implemented on GPU. Will use CPU for metric computation, this could significantly affect learning time\n",
      "Metric QueryAUC:type=Ranking is not implemented on GPU. Will use CPU for metric computation, this could significantly affect learning time\n"
     ]
    }
   ],
   "source": [
    "kfold = KFold(n_splits=5, shuffle=True, random_state=0)\n",
    "train_index, test_index = next(kfold.split(data))\n",
    "X_train, y_train, queries_train, X_test, y_test, queries_test = get_split(train_index, test_index)\n",
    "\n",
    "# train_wv_emb, test_wv_emb = train_predict_wv(data.iloc[train_index], data.iloc[test_index])\n",
    "songs_embeddings, user_embeddings = train_wv(data.iloc[train_index])\n",
    "\n",
    "train_wv_emb = predict_wv(data.iloc[train_index], songs_embeddings, user_embeddings)\n",
    "X_train = np.hstack([X_train, train_wv_emb[:, None]])\n",
    "del train_wv_emb\n",
    "\n",
    "test_wv_emb = predict_wv(data.iloc[test_index], songs_embeddings, user_embeddings)\n",
    "X_test = np.hstack([X_test, test_wv_emb[:, None]])\n",
    "del test_wv_emb\n",
    "\n",
    "train = Pool(\n",
    "    data=X_train,\n",
    "    label=y_train,\n",
    "    group_id=queries_train,\n",
    "    cat_features=cat_features\n",
    ")\n",
    "\n",
    "test = Pool(\n",
    "    data=X_test,\n",
    "    label=y_test,\n",
    "    group_id=queries_test,\n",
    "    cat_features=cat_features\n",
    ")\n",
    "\n",
    "model = CatBoostRanker(**parameters)\n",
    "model.fit(train, eval_set=test, plot=True)\n",
    "score = model.get_evals_result()['validation']['QueryAUC:type=Ranking']\n",
    "del X_train, y_train, queries_train, X_test, y_test, queries_test"
   ]
  },
  {
   "cell_type": "code",
   "execution_count": 40,
   "id": "7ef320c4",
   "metadata": {},
   "outputs": [
    {
     "data": {
      "text/plain": [
       "Text(0.5, 0, 'Iteration')"
      ]
     },
     "execution_count": 40,
     "metadata": {},
     "output_type": "execute_result"
    },
    {
     "data": {
      "image/png": "[encoded data removed]",
      "text/plain": [
       "<Figure size 1440x720 with 1 Axes>"
      ]
     },
     "metadata": {},
     "output_type": "display_data"
    }
   ],
   "source": [
    "x = np.array((range(len(score))))*parameters['metric_period']\n",
    "sns.set_theme(rc={\"figure.figsize\": (20, 10)})\n",
    "ax = sns.lineplot(x=x, y=score)\n",
    "ax.set_title(\"ROC-AUC per user during model training\")\n",
    "ax.set_ylabel(\"Average ROC-AUC per user\")\n",
    "ax.set_xlabel(\"Iteration\")"
   ]
  },
  {
   "cell_type": "markdown",
   "id": "6dc94c11",
   "metadata": {},
   "source": [
    "2000 не дает значительного прироста в метриках, а считаются очень уж долго, поэтому сократим до 150"
   ]
  },
  {
   "cell_type": "code",
   "execution_count": 41,
   "id": "7ef77cb9",
   "metadata": {},
   "outputs": [],
   "source": [
    "parameters = {\n",
    "    'iterations': 150,\n",
    "    'custom_metric': [\"QueryAUC:type=Ranking\"],\n",
    "    'verbose': False ,\n",
    "    'random_seed': 0,\n",
    "    'metric_period': 15, \n",
    "    'task_type': 'GPU',\n",
    "    'loss_function': 'YetiRank',\n",
    "    'train_dir': 'YetiRank/'\n",
    "}"
   ]
  },
  {
   "cell_type": "code",
   "execution_count": 42,
   "id": "2082a5e5",
   "metadata": {
    "scrolled": false
   },
   "outputs": [
    {
     "name": "stderr",
     "output_type": "stream",
     "text": [
      "Metric PFound is not implemented on GPU. Will use CPU for metric computation, this could significantly affect learning time\n",
      "Metric PFound is not implemented on GPU. Will use CPU for metric computation, this could significantly affect learning time\n",
      "Metric QueryAUC:type=Ranking is not implemented on GPU. Will use CPU for metric computation, this could significantly affect learning time\n",
      "Metric PFound is not implemented on GPU. Will use CPU for metric computation, this could significantly affect learning time\n",
      "Metric PFound is not implemented on GPU. Will use CPU for metric computation, this could significantly affect learning time\n",
      "Metric QueryAUC:type=Ranking is not implemented on GPU. Will use CPU for metric computation, this could significantly affect learning time\n",
      "Metric PFound is not implemented on GPU. Will use CPU for metric computation, this could significantly affect learning time\n",
      "Metric PFound is not implemented on GPU. Will use CPU for metric computation, this could significantly affect learning time\n",
      "Metric QueryAUC:type=Ranking is not implemented on GPU. Will use CPU for metric computation, this could significantly affect learning time\n",
      "Metric PFound is not implemented on GPU. Will use CPU for metric computation, this could significantly affect learning time\n",
      "Metric PFound is not implemented on GPU. Will use CPU for metric computation, this could significantly affect learning time\n",
      "Metric QueryAUC:type=Ranking is not implemented on GPU. Will use CPU for metric computation, this could significantly affect learning time\n",
      "Metric PFound is not implemented on GPU. Will use CPU for metric computation, this could significantly affect learning time\n",
      "Metric PFound is not implemented on GPU. Will use CPU for metric computation, this could significantly affect learning time\n",
      "Metric QueryAUC:type=Ranking is not implemented on GPU. Will use CPU for metric computation, this could significantly affect learning time\n"
     ]
    }
   ],
   "source": [
    "group_kfold = GroupKFold(n_splits=5)\n",
    "groups = data.msno.to_numpy()\n",
    "\n",
    "scores = []\n",
    "for train_index, test_index in group_kfold.split(data, groups=groups):\n",
    "    X_train, y_train, queries_train, X_test, y_test, queries_test = get_split(train_index, test_index)\n",
    "    \n",
    "    train = Pool(\n",
    "        data=X_train,\n",
    "        label=y_train,\n",
    "        group_id=queries_train,\n",
    "        cat_features=cat_features\n",
    "    )\n",
    "\n",
    "    test = Pool(\n",
    "        data=X_test,\n",
    "        label=y_test,\n",
    "        group_id=queries_test,\n",
    "        cat_features=cat_features\n",
    "    )\n",
    "    \n",
    "    model = CatBoostRanker(**parameters)\n",
    "    model.fit(train, eval_set=test, plot=False)\n",
    "    score = model.get_evals_result()['validation']['QueryAUC:type=Ranking']\n",
    "    scores.append(score)\n",
    "    del X_train, y_train, queries_train, X_test, y_test, queries_test"
   ]
  },
  {
   "cell_type": "code",
   "execution_count": null,
   "id": "6d5114e0",
   "metadata": {},
   "outputs": [],
   "source": []
  },
  {
   "cell_type": "code",
   "execution_count": 43,
   "id": "504d6b11",
   "metadata": {},
   "outputs": [],
   "source": [
    "aucs = np.vstack([it for it in scores])\n",
    "mean_auc = aucs.mean(axis=0)\n",
    "std_auc = aucs.std(axis=0)"
   ]
  },
  {
   "cell_type": "code",
   "execution_count": 44,
   "id": "684a08cd",
   "metadata": {},
   "outputs": [
    {
     "data": {
      "text/plain": [
       "<matplotlib.collections.PolyCollection at 0x7f45e6d19370>"
      ]
     },
     "execution_count": 44,
     "metadata": {},
     "output_type": "execute_result"
    },
    {
     "data": {
      "image/png": "[encoded data removed]",
      "text/plain": [
       "<Figure size 1440x720 with 1 Axes>"
      ]
     },
     "metadata": {},
     "output_type": "display_data"
    }
   ],
   "source": [
    "x = np.array(range(parameters['iterations']//parameters['metric_period']+1))*parameters['metric_period']\n",
    "sns.set_theme(rc={\"figure.figsize\": (20, 10)})\n",
    "ax = sns.lineplot(x=x, y=mean_auc)\n",
    "ax.set_title(\"ROC-AUC per user during model training\")\n",
    "ax.set_ylabel(\"Average ROC-AUC per user\")\n",
    "ax.set_xlabel(\"Iteration\")\n",
    "ax.fill_between(x=x, y1 = mean_auc - std_auc, y2 = mean_auc + std_auc, alpha=.5)"
   ]
  },
  {
   "cell_type": "code",
   "execution_count": 45,
   "id": "3c6e06df",
   "metadata": {},
   "outputs": [
    {
     "data": {
      "text/plain": [
       "array([0.4607626 , 0.46595883, 0.46716949, 0.46800536, 0.46855935,\n",
       "       0.46879886, 0.47374589, 0.47603172, 0.47846562, 0.4807084 ,\n",
       "       0.481585  ])"
      ]
     },
     "execution_count": 45,
     "metadata": {},
     "output_type": "execute_result"
    }
   ],
   "source": [
    "mean_auc"
   ]
  },
  {
   "cell_type": "code",
   "execution_count": null,
   "id": "554d1e49",
   "metadata": {},
   "outputs": [],
   "source": []
  }
 ],
 "metadata": {
  "kernelspec": {
   "display_name": "Python 3 (ipykernel)",
   "language": "python",
   "name": "python3"
  },
  "language_info": {
   "codemirror_mode": {
    "name": "ipython",
    "version": 3
   },
   "file_extension": ".py",
   "mimetype": "text/x-python",
   "name": "python",
   "nbconvert_exporter": "python",
   "pygments_lexer": "ipython3",
   "version": "3.9.9"
  }
 },
 "nbformat": 4,
 "nbformat_minor": 5
}
