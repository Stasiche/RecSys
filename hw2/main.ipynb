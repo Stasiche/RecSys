{
 "cells": [
  {
   "cell_type": "code",
   "execution_count": 1,
   "id": "cathedral-finding",
   "metadata": {},
   "outputs": [],
   "source": [
    "import pandas as pd\n",
    "import numpy as np"
   ]
  },
  {
   "cell_type": "code",
   "execution_count": 2,
   "id": "3d09227c",
   "metadata": {},
   "outputs": [],
   "source": [
    "from itertools import chain\n",
    "from tqdm.notebook import tqdm"
   ]
  },
  {
   "cell_type": "code",
   "execution_count": 3,
   "id": "90e16d1a",
   "metadata": {},
   "outputs": [],
   "source": [
    "from catboost import CatBoostRanker, Pool, MetricVisualizer\n",
    "from copy import deepcopy\n",
    "import numpy as np\n",
    "import os\n",
    "import pandas as pd\n",
    "import seaborn as sns\n",
    "from sklearn.model_selection import KFold\n",
    "from typing import Tuple"
   ]
  },
  {
   "cell_type": "code",
   "execution_count": 4,
   "id": "likely-cleaning",
   "metadata": {},
   "outputs": [],
   "source": [
    "train = pd.read_csv('./data/train.csv')"
   ]
  },
  {
   "cell_type": "code",
   "execution_count": 5,
   "id": "0877fb99",
   "metadata": {},
   "outputs": [],
   "source": [
    "# train = train.iloc[:1_000]"
   ]
  },
  {
   "cell_type": "code",
   "execution_count": 6,
   "id": "compressed-colombia",
   "metadata": {},
   "outputs": [
    {
     "data": {
      "text/html": [
       "<div>\n",
       "<style scoped>\n",
       "    .dataframe tbody tr th:only-of-type {\n",
       "        vertical-align: middle;\n",
       "    }\n",
       "\n",
       "    .dataframe tbody tr th {\n",
       "        vertical-align: top;\n",
       "    }\n",
       "\n",
       "    .dataframe thead th {\n",
       "        text-align: right;\n",
       "    }\n",
       "</style>\n",
       "<table border=\"1\" class=\"dataframe\">\n",
       "  <thead>\n",
       "    <tr style=\"text-align: right;\">\n",
       "      <th></th>\n",
       "      <th>msno</th>\n",
       "      <th>song_id</th>\n",
       "      <th>source_system_tab</th>\n",
       "      <th>source_screen_name</th>\n",
       "      <th>source_type</th>\n",
       "      <th>target</th>\n",
       "    </tr>\n",
       "  </thead>\n",
       "  <tbody>\n",
       "    <tr>\n",
       "      <th>0</th>\n",
       "      <td>FGtllVqz18RPiwJj/edr2gV78zirAiY/9SmYvia+kCg=</td>\n",
       "      <td>BBzumQNXUHKdEBOB7mAJuzok+IJA1c2Ryg/yzTF6tik=</td>\n",
       "      <td>explore</td>\n",
       "      <td>Explore</td>\n",
       "      <td>online-playlist</td>\n",
       "      <td>1</td>\n",
       "    </tr>\n",
       "    <tr>\n",
       "      <th>1</th>\n",
       "      <td>Xumu+NIjS6QYVxDS4/t3SawvJ7viT9hPKXmf0RtLNx8=</td>\n",
       "      <td>bhp/MpSNoqoxOIB+/l8WPqu6jldth4DIpCm3ayXnJqM=</td>\n",
       "      <td>my library</td>\n",
       "      <td>Local playlist more</td>\n",
       "      <td>local-playlist</td>\n",
       "      <td>1</td>\n",
       "    </tr>\n",
       "    <tr>\n",
       "      <th>2</th>\n",
       "      <td>Xumu+NIjS6QYVxDS4/t3SawvJ7viT9hPKXmf0RtLNx8=</td>\n",
       "      <td>JNWfrrC7zNN7BdMpsISKa4Mw+xVJYNnxXh3/Epw7QgY=</td>\n",
       "      <td>my library</td>\n",
       "      <td>Local playlist more</td>\n",
       "      <td>local-playlist</td>\n",
       "      <td>1</td>\n",
       "    </tr>\n",
       "    <tr>\n",
       "      <th>3</th>\n",
       "      <td>Xumu+NIjS6QYVxDS4/t3SawvJ7viT9hPKXmf0RtLNx8=</td>\n",
       "      <td>2A87tzfnJTSWqD7gIZHisolhe4DMdzkbd6LzO1KHjNs=</td>\n",
       "      <td>my library</td>\n",
       "      <td>Local playlist more</td>\n",
       "      <td>local-playlist</td>\n",
       "      <td>1</td>\n",
       "    </tr>\n",
       "    <tr>\n",
       "      <th>4</th>\n",
       "      <td>FGtllVqz18RPiwJj/edr2gV78zirAiY/9SmYvia+kCg=</td>\n",
       "      <td>3qm6XTZ6MOCU11x8FIVbAGH5l5uMkT3/ZalWG1oo2Gc=</td>\n",
       "      <td>explore</td>\n",
       "      <td>Explore</td>\n",
       "      <td>online-playlist</td>\n",
       "      <td>1</td>\n",
       "    </tr>\n",
       "  </tbody>\n",
       "</table>\n",
       "</div>"
      ],
      "text/plain": [
       "                                           msno  \\\n",
       "0  FGtllVqz18RPiwJj/edr2gV78zirAiY/9SmYvia+kCg=   \n",
       "1  Xumu+NIjS6QYVxDS4/t3SawvJ7viT9hPKXmf0RtLNx8=   \n",
       "2  Xumu+NIjS6QYVxDS4/t3SawvJ7viT9hPKXmf0RtLNx8=   \n",
       "3  Xumu+NIjS6QYVxDS4/t3SawvJ7viT9hPKXmf0RtLNx8=   \n",
       "4  FGtllVqz18RPiwJj/edr2gV78zirAiY/9SmYvia+kCg=   \n",
       "\n",
       "                                        song_id source_system_tab  \\\n",
       "0  BBzumQNXUHKdEBOB7mAJuzok+IJA1c2Ryg/yzTF6tik=           explore   \n",
       "1  bhp/MpSNoqoxOIB+/l8WPqu6jldth4DIpCm3ayXnJqM=        my library   \n",
       "2  JNWfrrC7zNN7BdMpsISKa4Mw+xVJYNnxXh3/Epw7QgY=        my library   \n",
       "3  2A87tzfnJTSWqD7gIZHisolhe4DMdzkbd6LzO1KHjNs=        my library   \n",
       "4  3qm6XTZ6MOCU11x8FIVbAGH5l5uMkT3/ZalWG1oo2Gc=           explore   \n",
       "\n",
       "    source_screen_name      source_type  target  \n",
       "0              Explore  online-playlist       1  \n",
       "1  Local playlist more   local-playlist       1  \n",
       "2  Local playlist more   local-playlist       1  \n",
       "3  Local playlist more   local-playlist       1  \n",
       "4              Explore  online-playlist       1  "
      ]
     },
     "execution_count": 6,
     "metadata": {},
     "output_type": "execute_result"
    }
   ],
   "source": [
    "train.head()"
   ]
  },
  {
   "cell_type": "code",
   "execution_count": 7,
   "id": "difficult-producer",
   "metadata": {},
   "outputs": [],
   "source": [
    "members = pd.read_csv('./data/members.csv')"
   ]
  },
  {
   "cell_type": "code",
   "execution_count": 8,
   "id": "interested-cursor",
   "metadata": {},
   "outputs": [
    {
     "data": {
      "text/html": [
       "<div>\n",
       "<style scoped>\n",
       "    .dataframe tbody tr th:only-of-type {\n",
       "        vertical-align: middle;\n",
       "    }\n",
       "\n",
       "    .dataframe tbody tr th {\n",
       "        vertical-align: top;\n",
       "    }\n",
       "\n",
       "    .dataframe thead th {\n",
       "        text-align: right;\n",
       "    }\n",
       "</style>\n",
       "<table border=\"1\" class=\"dataframe\">\n",
       "  <thead>\n",
       "    <tr style=\"text-align: right;\">\n",
       "      <th></th>\n",
       "      <th>msno</th>\n",
       "      <th>city</th>\n",
       "      <th>bd</th>\n",
       "      <th>gender</th>\n",
       "      <th>registered_via</th>\n",
       "      <th>registration_init_time</th>\n",
       "      <th>expiration_date</th>\n",
       "    </tr>\n",
       "  </thead>\n",
       "  <tbody>\n",
       "    <tr>\n",
       "      <th>0</th>\n",
       "      <td>XQxgAYj3klVKjR3oxPPXYYFp4soD4TuBghkhMTD4oTw=</td>\n",
       "      <td>1</td>\n",
       "      <td>0</td>\n",
       "      <td>NaN</td>\n",
       "      <td>7</td>\n",
       "      <td>20110820</td>\n",
       "      <td>20170920</td>\n",
       "    </tr>\n",
       "    <tr>\n",
       "      <th>1</th>\n",
       "      <td>UizsfmJb9mV54qE9hCYyU07Va97c0lCRLEQX3ae+ztM=</td>\n",
       "      <td>1</td>\n",
       "      <td>0</td>\n",
       "      <td>NaN</td>\n",
       "      <td>7</td>\n",
       "      <td>20150628</td>\n",
       "      <td>20170622</td>\n",
       "    </tr>\n",
       "    <tr>\n",
       "      <th>2</th>\n",
       "      <td>D8nEhsIOBSoE6VthTaqDX8U6lqjJ7dLdr72mOyLya2A=</td>\n",
       "      <td>1</td>\n",
       "      <td>0</td>\n",
       "      <td>NaN</td>\n",
       "      <td>4</td>\n",
       "      <td>20160411</td>\n",
       "      <td>20170712</td>\n",
       "    </tr>\n",
       "    <tr>\n",
       "      <th>3</th>\n",
       "      <td>mCuD+tZ1hERA/o5GPqk38e041J8ZsBaLcu7nGoIIvhI=</td>\n",
       "      <td>1</td>\n",
       "      <td>0</td>\n",
       "      <td>NaN</td>\n",
       "      <td>9</td>\n",
       "      <td>20150906</td>\n",
       "      <td>20150907</td>\n",
       "    </tr>\n",
       "    <tr>\n",
       "      <th>4</th>\n",
       "      <td>q4HRBfVSssAFS9iRfxWrohxuk9kCYMKjHOEagUMV6rQ=</td>\n",
       "      <td>1</td>\n",
       "      <td>0</td>\n",
       "      <td>NaN</td>\n",
       "      <td>4</td>\n",
       "      <td>20170126</td>\n",
       "      <td>20170613</td>\n",
       "    </tr>\n",
       "  </tbody>\n",
       "</table>\n",
       "</div>"
      ],
      "text/plain": [
       "                                           msno  city  bd gender  \\\n",
       "0  XQxgAYj3klVKjR3oxPPXYYFp4soD4TuBghkhMTD4oTw=     1   0    NaN   \n",
       "1  UizsfmJb9mV54qE9hCYyU07Va97c0lCRLEQX3ae+ztM=     1   0    NaN   \n",
       "2  D8nEhsIOBSoE6VthTaqDX8U6lqjJ7dLdr72mOyLya2A=     1   0    NaN   \n",
       "3  mCuD+tZ1hERA/o5GPqk38e041J8ZsBaLcu7nGoIIvhI=     1   0    NaN   \n",
       "4  q4HRBfVSssAFS9iRfxWrohxuk9kCYMKjHOEagUMV6rQ=     1   0    NaN   \n",
       "\n",
       "   registered_via  registration_init_time  expiration_date  \n",
       "0               7                20110820         20170920  \n",
       "1               7                20150628         20170622  \n",
       "2               4                20160411         20170712  \n",
       "3               9                20150906         20150907  \n",
       "4               4                20170126         20170613  "
      ]
     },
     "execution_count": 8,
     "metadata": {},
     "output_type": "execute_result"
    }
   ],
   "source": [
    "members.head()"
   ]
  },
  {
   "cell_type": "code",
   "execution_count": 9,
   "id": "technological-cheat",
   "metadata": {},
   "outputs": [],
   "source": [
    "songs = pd.read_csv('./data/songs.csv')"
   ]
  },
  {
   "cell_type": "code",
   "execution_count": 10,
   "id": "mounted-registrar",
   "metadata": {},
   "outputs": [
    {
     "data": {
      "text/html": [
       "<div>\n",
       "<style scoped>\n",
       "    .dataframe tbody tr th:only-of-type {\n",
       "        vertical-align: middle;\n",
       "    }\n",
       "\n",
       "    .dataframe tbody tr th {\n",
       "        vertical-align: top;\n",
       "    }\n",
       "\n",
       "    .dataframe thead th {\n",
       "        text-align: right;\n",
       "    }\n",
       "</style>\n",
       "<table border=\"1\" class=\"dataframe\">\n",
       "  <thead>\n",
       "    <tr style=\"text-align: right;\">\n",
       "      <th></th>\n",
       "      <th>song_id</th>\n",
       "      <th>song_length</th>\n",
       "      <th>genre_ids</th>\n",
       "      <th>artist_name</th>\n",
       "      <th>composer</th>\n",
       "      <th>lyricist</th>\n",
       "      <th>language</th>\n",
       "    </tr>\n",
       "  </thead>\n",
       "  <tbody>\n",
       "    <tr>\n",
       "      <th>0</th>\n",
       "      <td>CXoTN1eb7AI+DntdU1vbcwGRV4SCIDxZu+YD8JP8r4E=</td>\n",
       "      <td>247640</td>\n",
       "      <td>465</td>\n",
       "      <td>張信哲 (Jeff Chang)</td>\n",
       "      <td>董貞</td>\n",
       "      <td>何啟弘</td>\n",
       "      <td>3.0</td>\n",
       "    </tr>\n",
       "    <tr>\n",
       "      <th>1</th>\n",
       "      <td>o0kFgae9QtnYgRkVPqLJwa05zIhRlUjfF7O1tDw0ZDU=</td>\n",
       "      <td>197328</td>\n",
       "      <td>444</td>\n",
       "      <td>BLACKPINK</td>\n",
       "      <td>TEDDY|  FUTURE BOUNCE|  Bekuh BOOM</td>\n",
       "      <td>TEDDY</td>\n",
       "      <td>31.0</td>\n",
       "    </tr>\n",
       "    <tr>\n",
       "      <th>2</th>\n",
       "      <td>DwVvVurfpuz+XPuFvucclVQEyPqcpUkHR0ne1RQzPs0=</td>\n",
       "      <td>231781</td>\n",
       "      <td>465</td>\n",
       "      <td>SUPER JUNIOR</td>\n",
       "      <td>NaN</td>\n",
       "      <td>NaN</td>\n",
       "      <td>31.0</td>\n",
       "    </tr>\n",
       "    <tr>\n",
       "      <th>3</th>\n",
       "      <td>dKMBWoZyScdxSkihKG+Vf47nc18N9q4m58+b4e7dSSE=</td>\n",
       "      <td>273554</td>\n",
       "      <td>465</td>\n",
       "      <td>S.H.E</td>\n",
       "      <td>湯小康</td>\n",
       "      <td>徐世珍</td>\n",
       "      <td>3.0</td>\n",
       "    </tr>\n",
       "    <tr>\n",
       "      <th>4</th>\n",
       "      <td>W3bqWd3T+VeHFzHAUfARgW9AvVRaF4N5Yzm4Mr6Eo/o=</td>\n",
       "      <td>140329</td>\n",
       "      <td>726</td>\n",
       "      <td>貴族精選</td>\n",
       "      <td>Traditional</td>\n",
       "      <td>Traditional</td>\n",
       "      <td>52.0</td>\n",
       "    </tr>\n",
       "  </tbody>\n",
       "</table>\n",
       "</div>"
      ],
      "text/plain": [
       "                                        song_id  song_length genre_ids  \\\n",
       "0  CXoTN1eb7AI+DntdU1vbcwGRV4SCIDxZu+YD8JP8r4E=       247640       465   \n",
       "1  o0kFgae9QtnYgRkVPqLJwa05zIhRlUjfF7O1tDw0ZDU=       197328       444   \n",
       "2  DwVvVurfpuz+XPuFvucclVQEyPqcpUkHR0ne1RQzPs0=       231781       465   \n",
       "3  dKMBWoZyScdxSkihKG+Vf47nc18N9q4m58+b4e7dSSE=       273554       465   \n",
       "4  W3bqWd3T+VeHFzHAUfARgW9AvVRaF4N5Yzm4Mr6Eo/o=       140329       726   \n",
       "\n",
       "        artist_name                            composer     lyricist  language  \n",
       "0  張信哲 (Jeff Chang)                                  董貞          何啟弘       3.0  \n",
       "1         BLACKPINK  TEDDY|  FUTURE BOUNCE|  Bekuh BOOM        TEDDY      31.0  \n",
       "2      SUPER JUNIOR                                 NaN          NaN      31.0  \n",
       "3             S.H.E                                 湯小康          徐世珍       3.0  \n",
       "4              貴族精選                         Traditional  Traditional      52.0  "
      ]
     },
     "execution_count": 10,
     "metadata": {},
     "output_type": "execute_result"
    }
   ],
   "source": [
    "songs.head()"
   ]
  },
  {
   "cell_type": "code",
   "execution_count": 11,
   "id": "accomplished-testament",
   "metadata": {},
   "outputs": [],
   "source": [
    "data = train.merge(members).merge(songs)"
   ]
  },
  {
   "cell_type": "code",
   "execution_count": 12,
   "id": "printable-paint",
   "metadata": {},
   "outputs": [
    {
     "data": {
      "text/html": [
       "<div>\n",
       "<style scoped>\n",
       "    .dataframe tbody tr th:only-of-type {\n",
       "        vertical-align: middle;\n",
       "    }\n",
       "\n",
       "    .dataframe tbody tr th {\n",
       "        vertical-align: top;\n",
       "    }\n",
       "\n",
       "    .dataframe thead th {\n",
       "        text-align: right;\n",
       "    }\n",
       "</style>\n",
       "<table border=\"1\" class=\"dataframe\">\n",
       "  <thead>\n",
       "    <tr style=\"text-align: right;\">\n",
       "      <th></th>\n",
       "      <th>msno</th>\n",
       "      <th>song_id</th>\n",
       "      <th>source_system_tab</th>\n",
       "      <th>source_screen_name</th>\n",
       "      <th>source_type</th>\n",
       "      <th>target</th>\n",
       "      <th>city</th>\n",
       "      <th>bd</th>\n",
       "      <th>gender</th>\n",
       "      <th>registered_via</th>\n",
       "      <th>registration_init_time</th>\n",
       "      <th>expiration_date</th>\n",
       "      <th>song_length</th>\n",
       "      <th>genre_ids</th>\n",
       "      <th>artist_name</th>\n",
       "      <th>composer</th>\n",
       "      <th>lyricist</th>\n",
       "      <th>language</th>\n",
       "    </tr>\n",
       "  </thead>\n",
       "  <tbody>\n",
       "    <tr>\n",
       "      <th>0</th>\n",
       "      <td>FGtllVqz18RPiwJj/edr2gV78zirAiY/9SmYvia+kCg=</td>\n",
       "      <td>BBzumQNXUHKdEBOB7mAJuzok+IJA1c2Ryg/yzTF6tik=</td>\n",
       "      <td>explore</td>\n",
       "      <td>Explore</td>\n",
       "      <td>online-playlist</td>\n",
       "      <td>1</td>\n",
       "      <td>1</td>\n",
       "      <td>0</td>\n",
       "      <td>NaN</td>\n",
       "      <td>7</td>\n",
       "      <td>20120102</td>\n",
       "      <td>20171005</td>\n",
       "      <td>206471</td>\n",
       "      <td>359</td>\n",
       "      <td>Bastille</td>\n",
       "      <td>Dan Smith| Mark Crew</td>\n",
       "      <td>NaN</td>\n",
       "      <td>52.0</td>\n",
       "    </tr>\n",
       "    <tr>\n",
       "      <th>1</th>\n",
       "      <td>pouJqjNRmZOnRNzzMWWkamTKkIGHyvhl/jo4HgbncnM=</td>\n",
       "      <td>BBzumQNXUHKdEBOB7mAJuzok+IJA1c2Ryg/yzTF6tik=</td>\n",
       "      <td>discover</td>\n",
       "      <td>Online playlist more</td>\n",
       "      <td>online-playlist</td>\n",
       "      <td>0</td>\n",
       "      <td>15</td>\n",
       "      <td>18</td>\n",
       "      <td>male</td>\n",
       "      <td>4</td>\n",
       "      <td>20151220</td>\n",
       "      <td>20170930</td>\n",
       "      <td>206471</td>\n",
       "      <td>359</td>\n",
       "      <td>Bastille</td>\n",
       "      <td>Dan Smith| Mark Crew</td>\n",
       "      <td>NaN</td>\n",
       "      <td>52.0</td>\n",
       "    </tr>\n",
       "    <tr>\n",
       "      <th>2</th>\n",
       "      <td>xbodnNBaLMyqqI7uFJlvHOKMJaizuWo/BB/YHZICcKo=</td>\n",
       "      <td>BBzumQNXUHKdEBOB7mAJuzok+IJA1c2Ryg/yzTF6tik=</td>\n",
       "      <td>my library</td>\n",
       "      <td>Local playlist more</td>\n",
       "      <td>local-library</td>\n",
       "      <td>1</td>\n",
       "      <td>1</td>\n",
       "      <td>0</td>\n",
       "      <td>NaN</td>\n",
       "      <td>7</td>\n",
       "      <td>20120804</td>\n",
       "      <td>20171004</td>\n",
       "      <td>206471</td>\n",
       "      <td>359</td>\n",
       "      <td>Bastille</td>\n",
       "      <td>Dan Smith| Mark Crew</td>\n",
       "      <td>NaN</td>\n",
       "      <td>52.0</td>\n",
       "    </tr>\n",
       "    <tr>\n",
       "      <th>3</th>\n",
       "      <td>s0ndDsjI79amU0RBiullFN8HRz9HjE++34jGNa7zJ/s=</td>\n",
       "      <td>BBzumQNXUHKdEBOB7mAJuzok+IJA1c2Ryg/yzTF6tik=</td>\n",
       "      <td>my library</td>\n",
       "      <td>Local playlist more</td>\n",
       "      <td>local-library</td>\n",
       "      <td>1</td>\n",
       "      <td>5</td>\n",
       "      <td>21</td>\n",
       "      <td>female</td>\n",
       "      <td>9</td>\n",
       "      <td>20110808</td>\n",
       "      <td>20170917</td>\n",
       "      <td>206471</td>\n",
       "      <td>359</td>\n",
       "      <td>Bastille</td>\n",
       "      <td>Dan Smith| Mark Crew</td>\n",
       "      <td>NaN</td>\n",
       "      <td>52.0</td>\n",
       "    </tr>\n",
       "    <tr>\n",
       "      <th>4</th>\n",
       "      <td>Vw4Umh6/qlsJDC/XMslyAxVvRgFJGHr53yb/nrmY1DU=</td>\n",
       "      <td>BBzumQNXUHKdEBOB7mAJuzok+IJA1c2Ryg/yzTF6tik=</td>\n",
       "      <td>my library</td>\n",
       "      <td>Local playlist more</td>\n",
       "      <td>local-library</td>\n",
       "      <td>0</td>\n",
       "      <td>6</td>\n",
       "      <td>33</td>\n",
       "      <td>female</td>\n",
       "      <td>9</td>\n",
       "      <td>20070323</td>\n",
       "      <td>20170915</td>\n",
       "      <td>206471</td>\n",
       "      <td>359</td>\n",
       "      <td>Bastille</td>\n",
       "      <td>Dan Smith| Mark Crew</td>\n",
       "      <td>NaN</td>\n",
       "      <td>52.0</td>\n",
       "    </tr>\n",
       "  </tbody>\n",
       "</table>\n",
       "</div>"
      ],
      "text/plain": [
       "                                           msno  \\\n",
       "0  FGtllVqz18RPiwJj/edr2gV78zirAiY/9SmYvia+kCg=   \n",
       "1  pouJqjNRmZOnRNzzMWWkamTKkIGHyvhl/jo4HgbncnM=   \n",
       "2  xbodnNBaLMyqqI7uFJlvHOKMJaizuWo/BB/YHZICcKo=   \n",
       "3  s0ndDsjI79amU0RBiullFN8HRz9HjE++34jGNa7zJ/s=   \n",
       "4  Vw4Umh6/qlsJDC/XMslyAxVvRgFJGHr53yb/nrmY1DU=   \n",
       "\n",
       "                                        song_id source_system_tab  \\\n",
       "0  BBzumQNXUHKdEBOB7mAJuzok+IJA1c2Ryg/yzTF6tik=           explore   \n",
       "1  BBzumQNXUHKdEBOB7mAJuzok+IJA1c2Ryg/yzTF6tik=          discover   \n",
       "2  BBzumQNXUHKdEBOB7mAJuzok+IJA1c2Ryg/yzTF6tik=        my library   \n",
       "3  BBzumQNXUHKdEBOB7mAJuzok+IJA1c2Ryg/yzTF6tik=        my library   \n",
       "4  BBzumQNXUHKdEBOB7mAJuzok+IJA1c2Ryg/yzTF6tik=        my library   \n",
       "\n",
       "     source_screen_name      source_type  target  city  bd  gender  \\\n",
       "0               Explore  online-playlist       1     1   0     NaN   \n",
       "1  Online playlist more  online-playlist       0    15  18    male   \n",
       "2   Local playlist more    local-library       1     1   0     NaN   \n",
       "3   Local playlist more    local-library       1     5  21  female   \n",
       "4   Local playlist more    local-library       0     6  33  female   \n",
       "\n",
       "   registered_via  registration_init_time  expiration_date  song_length  \\\n",
       "0               7                20120102         20171005       206471   \n",
       "1               4                20151220         20170930       206471   \n",
       "2               7                20120804         20171004       206471   \n",
       "3               9                20110808         20170917       206471   \n",
       "4               9                20070323         20170915       206471   \n",
       "\n",
       "  genre_ids artist_name              composer lyricist  language  \n",
       "0       359    Bastille  Dan Smith| Mark Crew      NaN      52.0  \n",
       "1       359    Bastille  Dan Smith| Mark Crew      NaN      52.0  \n",
       "2       359    Bastille  Dan Smith| Mark Crew      NaN      52.0  \n",
       "3       359    Bastille  Dan Smith| Mark Crew      NaN      52.0  \n",
       "4       359    Bastille  Dan Smith| Mark Crew      NaN      52.0  "
      ]
     },
     "execution_count": 12,
     "metadata": {},
     "output_type": "execute_result"
    }
   ],
   "source": [
    "data.head()"
   ]
  },
  {
   "cell_type": "code",
   "execution_count": null,
   "id": "bd40e853",
   "metadata": {},
   "outputs": [],
   "source": []
  },
  {
   "cell_type": "code",
   "execution_count": 13,
   "id": "7e92a0b0",
   "metadata": {},
   "outputs": [],
   "source": [
    "mask = ~data.gender.str.contains(r'male', na=False)\n",
    "\n",
    "data.loc[mask, 'gender'] = pd.Series(['na']*mask.sum(), name='gender', index=mask[mask].index)"
   ]
  },
  {
   "cell_type": "code",
   "execution_count": 14,
   "id": "96ce3147",
   "metadata": {},
   "outputs": [
    {
     "data": {
      "text/plain": [
       "msno                            0\n",
       "song_id                         0\n",
       "source_system_tab           24849\n",
       "source_screen_name         414796\n",
       "source_type                 21539\n",
       "target                          0\n",
       "city                            0\n",
       "bd                              0\n",
       "gender                          0\n",
       "registered_via                  0\n",
       "registration_init_time          0\n",
       "expiration_date                 0\n",
       "song_length                     0\n",
       "genre_ids                  118341\n",
       "artist_name                     0\n",
       "composer                  1675592\n",
       "lyricist                  3178684\n",
       "language                       36\n",
       "dtype: int64"
      ]
     },
     "execution_count": 14,
     "metadata": {},
     "output_type": "execute_result"
    }
   ],
   "source": [
    "data.isna().sum(0)"
   ]
  },
  {
   "cell_type": "code",
   "execution_count": 15,
   "id": "a87e9e91",
   "metadata": {},
   "outputs": [],
   "source": [
    "# точный возраст знать не обязательно -- разделим на условные \"поколения\"\n",
    "mask=(data.bd < 10) | (data.bd >= 80)\n",
    "young = (data.bd >= 10) & (data.bd < 20)\n",
    "middle = (data.bd >= 20) & (data.bd < 40)\n",
    "adult = (data.bd >= 40) & (data.bd < 60)\n",
    "old = (data.bd >= 60) & (data.bd < 80)\n",
    "\n",
    "data.loc[mask, 'bd'] = 'na'\n",
    "data.loc[young, 'bd'] = 'young'\n",
    "data.loc[middle, 'bd'] = 'middle'\n",
    "data.loc[adult, 'bd'] = 'adult'\n",
    "data.loc[old, 'bd'] = 'old'"
   ]
  },
  {
   "cell_type": "code",
   "execution_count": 16,
   "id": "7e3833f0",
   "metadata": {},
   "outputs": [],
   "source": [
    "data.loc[data.language==-1, 'language'] = 'na'\n",
    "data.language = data.language.apply(lambda x: str(x))"
   ]
  },
  {
   "cell_type": "code",
   "execution_count": 17,
   "id": "ee90f7bb",
   "metadata": {},
   "outputs": [],
   "source": [
    "data.fillna('na', inplace=True)"
   ]
  },
  {
   "cell_type": "code",
   "execution_count": 18,
   "id": "5a279006",
   "metadata": {},
   "outputs": [],
   "source": [
    "class GenresEnconding:\n",
    "    def __init__(self, bins_number: int):\n",
    "        self.labels = None\n",
    "        self.id_to_indx = None\n",
    "        self.indx_to_id = None\n",
    "        self.bins_number = bins_number\n",
    "        self.bins_size = None\n",
    "    \n",
    "    def fit(self, X: np.ndarray):\n",
    "        self.labels = np.unique(list(chain(*[el.split('|') for el in X])))\n",
    "        self.bins_size = len(self.labels) // self.bins_number + 1\n",
    "        \n",
    "        self.id_to_indx = {genre_id: i for i, genre_id in enumerate(self.labels)}\n",
    "        self.indx_to_id = {i: genre_id for genre_id, i  in self.id_to_indx.items()}\n",
    "        return self\n",
    "        \n",
    "    def transform(self, X: np.ndarray):\n",
    "        result = np.zeros((len(X), self.bins_number))\n",
    "        for i, genre_ids in enumerate(tqdm(X)):\n",
    "            indxs = [self.id_to_indx.get(genre_id,ge.id_to_indx['na']) for genre_id in genre_ids.split('|')]\n",
    "            bin_enc = np.zeros(len(self.labels))\n",
    "            bin_enc[indxs] = 1\n",
    "            for b in range(self.bins_number):\n",
    "                result[i, b] = np.power(2, bin_enc[b*self.bins_size:(b+1)*self.bins_size])[None,:] @ bin_enc[b*self.bins_size:(b+1)*self.bins_size]\n",
    "        return result\n",
    "        \n",
    "    def fit_transform(self, X: np.ndarray):\n",
    "        return self.fit(X).transform(X)\n",
    "    "
   ]
  },
  {
   "cell_type": "code",
   "execution_count": null,
   "id": "1b9670d9",
   "metadata": {},
   "outputs": [],
   "source": []
  },
  {
   "cell_type": "code",
   "execution_count": 19,
   "id": "5b617337",
   "metadata": {},
   "outputs": [
    {
     "data": {
      "application/vnd.jupyter.widget-view+json": {
       "model_id": "62f397d9346a44e4b8ea9c1c32e16309",
       "version_major": 2,
       "version_minor": 0
      },
      "text/plain": [
       "  0%|          | 0/7377304 [00:00<?, ?it/s]"
      ]
     },
     "metadata": {},
     "output_type": "display_data"
    }
   ],
   "source": [
    "# Вахнот по жанрам добавляет слишком много фичей, так что сгруппируем ванхоты в группы битов и превратим их в десятичное число\n",
    "ge = GenresEnconding(5)\n",
    "genres_encodes = ge.fit_transform(data.genre_ids.values)"
   ]
  },
  {
   "cell_type": "code",
   "execution_count": 20,
   "id": "711fb0a6",
   "metadata": {},
   "outputs": [],
   "source": [
    "genres_encodes_df = pd.DataFrame(genres_encodes, columns=[f'genre_bin_{i}' for i in range(ge.bins_number)])"
   ]
  },
  {
   "cell_type": "code",
   "execution_count": 21,
   "id": "ead4ffee",
   "metadata": {},
   "outputs": [],
   "source": [
    "data = pd.concat([data.drop(columns=['genre_ids']), genres_encodes_df], axis=1)"
   ]
  },
  {
   "cell_type": "code",
   "execution_count": 22,
   "id": "92b1e14a",
   "metadata": {},
   "outputs": [
    {
     "data": {
      "text/plain": [
       "msno                      0\n",
       "song_id                   0\n",
       "source_system_tab         0\n",
       "source_screen_name        0\n",
       "source_type               0\n",
       "target                    0\n",
       "city                      0\n",
       "bd                        0\n",
       "gender                    0\n",
       "registered_via            0\n",
       "registration_init_time    0\n",
       "expiration_date           0\n",
       "song_length               0\n",
       "artist_name               0\n",
       "composer                  0\n",
       "lyricist                  0\n",
       "language                  0\n",
       "genre_bin_0               0\n",
       "genre_bin_1               0\n",
       "genre_bin_2               0\n",
       "genre_bin_3               0\n",
       "genre_bin_4               0\n",
       "dtype: int64"
      ]
     },
     "execution_count": 22,
     "metadata": {},
     "output_type": "execute_result"
    }
   ],
   "source": [
    "data.isna().sum(0)"
   ]
  },
  {
   "cell_type": "code",
   "execution_count": 23,
   "id": "8b097d23",
   "metadata": {},
   "outputs": [
    {
     "data": {
      "text/plain": [
       "Index(['msno', 'song_id', 'source_system_tab', 'source_screen_name',\n",
       "       'source_type', 'target', 'city', 'bd', 'gender', 'registered_via',\n",
       "       'registration_init_time', 'expiration_date', 'song_length',\n",
       "       'artist_name', 'composer', 'lyricist', 'language', 'genre_bin_0',\n",
       "       'genre_bin_1', 'genre_bin_2', 'genre_bin_3', 'genre_bin_4'],\n",
       "      dtype='object')"
      ]
     },
     "execution_count": 23,
     "metadata": {},
     "output_type": "execute_result"
    }
   ],
   "source": [
    "data.columns"
   ]
  },
  {
   "cell_type": "code",
   "execution_count": 24,
   "id": "induced-nerve",
   "metadata": {},
   "outputs": [],
   "source": [
    "data.sort_values(\"msno\", kind=\"stable\", inplace=True)"
   ]
  },
  {
   "cell_type": "code",
   "execution_count": 25,
   "id": "041c0d33",
   "metadata": {},
   "outputs": [],
   "source": [
    "data = data.groupby('msno').head(1023)"
   ]
  },
  {
   "cell_type": "code",
   "execution_count": 26,
   "id": "493fc47d",
   "metadata": {},
   "outputs": [],
   "source": [
    "cat_feat_named = ['song_id', 'source_system_tab', 'source_screen_name',\n",
    "       'source_type', 'city', 'bd', 'gender', 'registered_via',\n",
    "       'artist_name', 'composer', 'lyricist', 'language']\n",
    "\n",
    "noncat_features = ['song_length', 'genre_bin_0','genre_bin_1', 'genre_bin_2', 'genre_bin_3', 'genre_bin_4']"
   ]
  },
  {
   "cell_type": "code",
   "execution_count": 27,
   "id": "f1c3edbc",
   "metadata": {},
   "outputs": [],
   "source": [
    "cat_features = [i for i in range(len(cat_feat_named))]"
   ]
  },
  {
   "cell_type": "code",
   "execution_count": 28,
   "id": "4906a247",
   "metadata": {},
   "outputs": [],
   "source": [
    "\n",
    "X = data[cat_feat_named+noncat_features].values\n",
    "y = data['target'].values\n",
    "queries = data['msno'].values"
   ]
  },
  {
   "cell_type": "code",
   "execution_count": 29,
   "id": "c96ea55f",
   "metadata": {},
   "outputs": [],
   "source": [
    "def get_split(train_indxs: np.ndarray, test_indxs: np.ndarray)-> Tuple[np.ndarray,np.ndarray,np.ndarray,np.ndarray,np.ndarray,np.ndarray]:\n",
    "    X_train, X_test = X[train_indxs], X[test_indxs]\n",
    "    y_train, y_test = y[train_indxs], y[test_indxs]\n",
    "    queries_train, queries_test = queries[train_indxs], queries[test_indxs]\n",
    "    \n",
    "    return X_train, y_train, queries_train, X_test, y_test, queries_test"
   ]
  },
  {
   "cell_type": "code",
   "execution_count": 30,
   "id": "584a6d3d",
   "metadata": {},
   "outputs": [],
   "source": [
    "parameters = {\n",
    "    'iterations': 2000,\n",
    "    'custom_metric': [\"QueryAUC:type=Ranking\"],\n",
    "    'verbose': False ,\n",
    "    'random_seed': 0,\n",
    "    'metric_period': 50, \n",
    "    'task_type': 'GPU',\n",
    "    'loss_function': 'YetiRank',\n",
    "    'train_dir': 'YetiRank/'\n",
    "}"
   ]
  },
  {
   "cell_type": "code",
   "execution_count": 43,
   "id": "b22827f2",
   "metadata": {},
   "outputs": [],
   "source": [
    "# kf = KFold(n_splits=5, shuffle=True)\n",
    "# train_index, test_index = next(iter(kf.split(X)))"
   ]
  },
  {
   "cell_type": "code",
   "execution_count": 44,
   "id": "75a788fe",
   "metadata": {},
   "outputs": [],
   "source": [
    "# X_train, y_train, queries_train, X_test, y_test, queries_test = get_split(train_index, test_index)\n",
    "\n",
    "# train = Pool(\n",
    "#     data=X_train,\n",
    "#     label=y_train,\n",
    "#     group_id=queries_train,\n",
    "#     cat_features=cat_features\n",
    "# )\n",
    "\n",
    "# test = Pool(\n",
    "#     data=X_test,\n",
    "#     label=y_test,\n",
    "#     group_id=queries_test,\n",
    "#     cat_features=cat_features\n",
    "# )\n",
    "\n",
    "# model = CatBoostRanker(**parameters)\n",
    "# model.fit(train, eval_set=test, plot=True)\n",
    "# score = model.get_evals_result()['validation']['QueryAUC:type=Ranking']\n",
    "# print(score)"
   ]
  },
  {
   "cell_type": "code",
   "execution_count": 33,
   "id": "7ef77cb9",
   "metadata": {},
   "outputs": [],
   "source": [
    "parameters = {\n",
    "    'iterations': 150,\n",
    "    'custom_metric': [\"QueryAUC:type=Ranking\"],\n",
    "    'verbose': False ,\n",
    "    'random_seed': 0,\n",
    "    'metric_period': 15, \n",
    "    'task_type': 'GPU',\n",
    "    'loss_function': 'YetiRank',\n",
    "    'train_dir': 'YetiRank/'\n",
    "}"
   ]
  },
  {
   "cell_type": "code",
   "execution_count": 34,
   "id": "7947b28b",
   "metadata": {},
   "outputs": [
    {
     "data": {
      "application/vnd.jupyter.widget-view+json": {
       "model_id": "1b10324b1772432c9038477ffb635a63",
       "version_major": 2,
       "version_minor": 0
      },
      "text/plain": [
       "  0%|          | 0/5 [00:00<?, ?it/s]"
      ]
     },
     "metadata": {},
     "output_type": "display_data"
    },
    {
     "name": "stderr",
     "output_type": "stream",
     "text": [
      "Metric PFound is not implemented on GPU. Will use CPU for metric computation, this could significantly affect learning time\n",
      "Metric PFound is not implemented on GPU. Will use CPU for metric computation, this could significantly affect learning time\n",
      "Metric QueryAUC:type=Ranking is not implemented on GPU. Will use CPU for metric computation, this could significantly affect learning time\n"
     ]
    },
    {
     "name": "stdout",
     "output_type": "stream",
     "text": [
      "[0.5104007472536735, 0.5153421735717901, 0.5164111912283701, 0.516664408923437, 0.5166766488452994, 0.5167961267811297, 0.5216728671701244, 0.5237607743356666, 0.5264909190955733, 0.529388488175526, 0.5307016030436571]\n"
     ]
    },
    {
     "name": "stderr",
     "output_type": "stream",
     "text": [
      "Metric PFound is not implemented on GPU. Will use CPU for metric computation, this could significantly affect learning time\n",
      "Metric PFound is not implemented on GPU. Will use CPU for metric computation, this could significantly affect learning time\n",
      "Metric QueryAUC:type=Ranking is not implemented on GPU. Will use CPU for metric computation, this could significantly affect learning time\n"
     ]
    },
    {
     "name": "stdout",
     "output_type": "stream",
     "text": [
      "[0.5087769015676551, 0.5111318491943272, 0.514149569442191, 0.5144607825932525, 0.5146824921599376, 0.5202788150530913, 0.5207552302695772, 0.5216047223970279, 0.5218851704383903, 0.5223299163419461, 0.526255804912154]\n"
     ]
    },
    {
     "name": "stderr",
     "output_type": "stream",
     "text": [
      "Metric PFound is not implemented on GPU. Will use CPU for metric computation, this could significantly affect learning time\n",
      "Metric PFound is not implemented on GPU. Will use CPU for metric computation, this could significantly affect learning time\n",
      "Metric QueryAUC:type=Ranking is not implemented on GPU. Will use CPU for metric computation, this could significantly affect learning time\n"
     ]
    },
    {
     "name": "stdout",
     "output_type": "stream",
     "text": [
      "[0.5064467089223381, 0.5134425558240698, 0.5142993110129832, 0.5151808753676437, 0.5153909554670717, 0.5191938647449453, 0.5203309347505642, 0.5219265939491201, 0.5221889274322629, 0.5248614279136568, 0.5270434253856178]\n"
     ]
    },
    {
     "name": "stderr",
     "output_type": "stream",
     "text": [
      "Metric PFound is not implemented on GPU. Will use CPU for metric computation, this could significantly affect learning time\n",
      "Metric PFound is not implemented on GPU. Will use CPU for metric computation, this could significantly affect learning time\n",
      "Metric QueryAUC:type=Ranking is not implemented on GPU. Will use CPU for metric computation, this could significantly affect learning time\n"
     ]
    },
    {
     "name": "stdout",
     "output_type": "stream",
     "text": [
      "[0.5070099264538556, 0.5109463217511393, 0.5118373829898795, 0.512112842230884, 0.516722279805405, 0.518435682228247, 0.5192343976028929, 0.5202397623066443, 0.5210039773107988, 0.5248804646109235, 0.5265325099033258]\n"
     ]
    },
    {
     "name": "stderr",
     "output_type": "stream",
     "text": [
      "Metric PFound is not implemented on GPU. Will use CPU for metric computation, this could significantly affect learning time\n",
      "Metric PFound is not implemented on GPU. Will use CPU for metric computation, this could significantly affect learning time\n",
      "Metric QueryAUC:type=Ranking is not implemented on GPU. Will use CPU for metric computation, this could significantly affect learning time\n"
     ]
    },
    {
     "name": "stdout",
     "output_type": "stream",
     "text": [
      "[0.5115684754455169, 0.5143055601940312, 0.5148966281936272, 0.5153586784909103, 0.5158053052925582, 0.5207632740539546, 0.5217982433533435, 0.5226587471746776, 0.522971226187973, 0.5232348406867593, 0.5262123917283759]\n"
     ]
    }
   ],
   "source": [
    "kf = KFold(n_splits=5, shuffle=True)\n",
    "scores = []\n",
    "for train_index, test_index in tqdm(kf.split(X), total=kf.n_splits):\n",
    "    X_train, y_train, queries_train, X_test, y_test, queries_test = get_split(train_index, test_index)\n",
    "    \n",
    "    train = Pool(\n",
    "        data=X_train,\n",
    "        label=y_train,\n",
    "        group_id=queries_train,\n",
    "        cat_features=cat_features\n",
    "    )\n",
    "\n",
    "    test = Pool(\n",
    "        data=X_test,\n",
    "        label=y_test,\n",
    "        group_id=queries_test,\n",
    "        cat_features=cat_features\n",
    "    )\n",
    "    \n",
    "    model = CatBoostRanker(**parameters)\n",
    "    model.fit(train, eval_set=test, plot=False)\n",
    "    score = model.get_evals_result()['validation']['QueryAUC:type=Ranking']\n",
    "    scores.append(score)"
   ]
  },
  {
   "cell_type": "code",
   "execution_count": 35,
   "id": "504d6b11",
   "metadata": {},
   "outputs": [],
   "source": [
    "aucs = np.vstack([it for it in scores])\n",
    "mean_auc = aucs.mean(axis=0)\n",
    "std_auc = aucs.std(axis=0)"
   ]
  },
  {
   "cell_type": "code",
   "execution_count": 36,
   "id": "f39ed12b",
   "metadata": {},
   "outputs": [],
   "source": [
    "x = np.array(range(parameters['iterations']//parameters['metric_period']+1))*parameters['metric_period']"
   ]
  },
  {
   "cell_type": "code",
   "execution_count": 40,
   "id": "684a08cd",
   "metadata": {},
   "outputs": [
    {
     "data": {
      "text/plain": [
       "<matplotlib.collections.PolyCollection at 0x7fb70896a5b0>"
      ]
     },
     "execution_count": 40,
     "metadata": {},
     "output_type": "execute_result"
    },
    {
     "data": {
      "image/png": "[encoded data removed]",
      "text/plain": [
       "<Figure size 1440x720 with 1 Axes>"
      ]
     },
     "metadata": {},
     "output_type": "display_data"
    }
   ],
   "source": [
    "sns.set_theme(rc={\"figure.figsize\": (20, 10)})\n",
    "ax = sns.lineplot(x=x, y=mean_auc)\n",
    "ax.set_title(\"ROC-AUC per user during model training\")\n",
    "ax.set_ylabel(\"Average ROC-AUC per user\")\n",
    "ax.set_xlabel(\"Iteration\")\n",
    "ax.fill_between(x=x, y1 = mean_auc - std_auc, y2 = mean_auc + std_auc, alpha=.5)"
   ]
  },
  {
   "cell_type": "code",
   "execution_count": 38,
   "id": "3c6e06df",
   "metadata": {},
   "outputs": [
    {
     "data": {
      "text/plain": [
       "array([0.50884055, 0.51303369, 0.51431882, 0.51475552, 0.51585554,\n",
       "       0.51909355, 0.52075833, 0.52203812, 0.52290804, 0.52493903,\n",
       "       0.52734915])"
      ]
     },
     "execution_count": 38,
     "metadata": {},
     "output_type": "execute_result"
    }
   ],
   "source": [
    "mean_auc"
   ]
  },
  {
   "cell_type": "code",
   "execution_count": null,
   "id": "554d1e49",
   "metadata": {},
   "outputs": [],
   "source": []
  }
 ],
 "metadata": {
  "kernelspec": {
   "display_name": "Python 3 (ipykernel)",
   "language": "python",
   "name": "python3"
  },
  "language_info": {
   "codemirror_mode": {
    "name": "ipython",
    "version": 3
   },
   "file_extension": ".py",
   "mimetype": "text/x-python",
   "name": "python",
   "nbconvert_exporter": "python",
   "pygments_lexer": "ipython3",
   "version": "3.9.9"
  }
 },
 "nbformat": 4,
 "nbformat_minor": 5
}
