{
 "cells": [
  {
   "cell_type": "markdown",
   "metadata": {},
   "source": [
    "### Матричные факторизации"
   ]
  },
  {
   "cell_type": "markdown",
   "metadata": {},
   "source": [
    "В данной работе вам предстоит познакомиться с практической стороной матричных разложений.\n",
    "Работа поделена на 4 задания:\n",
    "1. Вам необходимо реализовать SVD разложения используя SGD на explicit данных\n",
    "2. Вам необходимо реализовать матричное разложения используя ALS на implicit данных\n",
    "3. Вам необходимо реализовать матричное разложения используя BPR на implicit данных\n",
    "4. Вам необходимо реализовать матричное разложения используя WARP на implicit данных\n",
    "\n",
    "Мягкий дедлайн 13 Октября (пишутся замечания, выставляется оценка, есть возможность исправить до жесткого дедлайна)\n",
    "\n",
    "Жесткий дедлайн 20 Октября (Итоговая проверка)"
   ]
  },
  {
   "cell_type": "code",
   "execution_count": 1,
   "metadata": {},
   "outputs": [],
   "source": [
    "import implicit\n",
    "import pandas as pd\n",
    "import numpy as np\n",
    "import scipy.sparse as sp\n",
    "\n",
    "from lightfm.datasets import fetch_movielens"
   ]
  },
  {
   "cell_type": "code",
   "execution_count": 2,
   "metadata": {},
   "outputs": [],
   "source": [
    "from utils.factorization import SVD, ALS, BPR"
   ]
  },
  {
   "cell_type": "markdown",
   "metadata": {},
   "source": [
    "В данной работе мы будем работать с explicit датасетом movieLens, в котором представленны пары user_id movie_id и rating выставленный пользователем фильму\n",
    "\n",
    "Скачать датасет можно по ссылке https://grouplens.org/datasets/movielens/1m/"
   ]
  },
  {
   "cell_type": "code",
   "execution_count": 3,
   "metadata": {},
   "outputs": [],
   "source": [
    "ratings = pd.read_csv('ml-1m/ratings.dat', delimiter='::', header=None, \n",
    "        names=['user_id', 'movie_id', 'rating', 'timestamp'], \n",
    "        usecols=['user_id', 'movie_id', 'rating'], engine='python')"
   ]
  },
  {
   "cell_type": "code",
   "execution_count": 4,
   "metadata": {},
   "outputs": [],
   "source": [
    "movie_info = pd.read_csv('ml-1m/movies.dat', delimiter='::', header=None, \n",
    "        names=['movie_id', 'name', 'category'], engine='python')"
   ]
  },
  {
   "cell_type": "markdown",
   "metadata": {},
   "source": [
    "Explicit данные"
   ]
  },
  {
   "cell_type": "code",
   "execution_count": 5,
   "metadata": {},
   "outputs": [
    {
     "data": {
      "text/html": [
       "<div>\n",
       "<style scoped>\n",
       "    .dataframe tbody tr th:only-of-type {\n",
       "        vertical-align: middle;\n",
       "    }\n",
       "\n",
       "    .dataframe tbody tr th {\n",
       "        vertical-align: top;\n",
       "    }\n",
       "\n",
       "    .dataframe thead th {\n",
       "        text-align: right;\n",
       "    }\n",
       "</style>\n",
       "<table border=\"1\" class=\"dataframe\">\n",
       "  <thead>\n",
       "    <tr style=\"text-align: right;\">\n",
       "      <th></th>\n",
       "      <th>user_id</th>\n",
       "      <th>movie_id</th>\n",
       "      <th>rating</th>\n",
       "    </tr>\n",
       "  </thead>\n",
       "  <tbody>\n",
       "    <tr>\n",
       "      <th>0</th>\n",
       "      <td>1</td>\n",
       "      <td>1193</td>\n",
       "      <td>5</td>\n",
       "    </tr>\n",
       "    <tr>\n",
       "      <th>1</th>\n",
       "      <td>1</td>\n",
       "      <td>661</td>\n",
       "      <td>3</td>\n",
       "    </tr>\n",
       "    <tr>\n",
       "      <th>2</th>\n",
       "      <td>1</td>\n",
       "      <td>914</td>\n",
       "      <td>3</td>\n",
       "    </tr>\n",
       "    <tr>\n",
       "      <th>3</th>\n",
       "      <td>1</td>\n",
       "      <td>3408</td>\n",
       "      <td>4</td>\n",
       "    </tr>\n",
       "    <tr>\n",
       "      <th>4</th>\n",
       "      <td>1</td>\n",
       "      <td>2355</td>\n",
       "      <td>5</td>\n",
       "    </tr>\n",
       "    <tr>\n",
       "      <th>5</th>\n",
       "      <td>1</td>\n",
       "      <td>1197</td>\n",
       "      <td>3</td>\n",
       "    </tr>\n",
       "    <tr>\n",
       "      <th>6</th>\n",
       "      <td>1</td>\n",
       "      <td>1287</td>\n",
       "      <td>5</td>\n",
       "    </tr>\n",
       "    <tr>\n",
       "      <th>7</th>\n",
       "      <td>1</td>\n",
       "      <td>2804</td>\n",
       "      <td>5</td>\n",
       "    </tr>\n",
       "    <tr>\n",
       "      <th>8</th>\n",
       "      <td>1</td>\n",
       "      <td>594</td>\n",
       "      <td>4</td>\n",
       "    </tr>\n",
       "    <tr>\n",
       "      <th>9</th>\n",
       "      <td>1</td>\n",
       "      <td>919</td>\n",
       "      <td>4</td>\n",
       "    </tr>\n",
       "  </tbody>\n",
       "</table>\n",
       "</div>"
      ],
      "text/plain": [
       "   user_id  movie_id  rating\n",
       "0        1      1193       5\n",
       "1        1       661       3\n",
       "2        1       914       3\n",
       "3        1      3408       4\n",
       "4        1      2355       5\n",
       "5        1      1197       3\n",
       "6        1      1287       5\n",
       "7        1      2804       5\n",
       "8        1       594       4\n",
       "9        1       919       4"
      ]
     },
     "execution_count": 5,
     "metadata": {},
     "output_type": "execute_result"
    }
   ],
   "source": [
    "ratings.head(10)"
   ]
  },
  {
   "cell_type": "markdown",
   "metadata": {},
   "source": [
    "Для того, чтобы преобразовать текущий датасет в Implicit, давайте считать что позитивная оценка это оценка >=4"
   ]
  },
  {
   "cell_type": "code",
   "execution_count": 6,
   "metadata": {},
   "outputs": [],
   "source": [
    "implicit_ratings = ratings.loc[(ratings['rating'] >= 4)]"
   ]
  },
  {
   "cell_type": "code",
   "execution_count": 7,
   "metadata": {},
   "outputs": [
    {
     "data": {
      "text/html": [
       "<div>\n",
       "<style scoped>\n",
       "    .dataframe tbody tr th:only-of-type {\n",
       "        vertical-align: middle;\n",
       "    }\n",
       "\n",
       "    .dataframe tbody tr th {\n",
       "        vertical-align: top;\n",
       "    }\n",
       "\n",
       "    .dataframe thead th {\n",
       "        text-align: right;\n",
       "    }\n",
       "</style>\n",
       "<table border=\"1\" class=\"dataframe\">\n",
       "  <thead>\n",
       "    <tr style=\"text-align: right;\">\n",
       "      <th></th>\n",
       "      <th>user_id</th>\n",
       "      <th>movie_id</th>\n",
       "      <th>rating</th>\n",
       "    </tr>\n",
       "  </thead>\n",
       "  <tbody>\n",
       "    <tr>\n",
       "      <th>0</th>\n",
       "      <td>1</td>\n",
       "      <td>1193</td>\n",
       "      <td>5</td>\n",
       "    </tr>\n",
       "    <tr>\n",
       "      <th>3</th>\n",
       "      <td>1</td>\n",
       "      <td>3408</td>\n",
       "      <td>4</td>\n",
       "    </tr>\n",
       "    <tr>\n",
       "      <th>4</th>\n",
       "      <td>1</td>\n",
       "      <td>2355</td>\n",
       "      <td>5</td>\n",
       "    </tr>\n",
       "    <tr>\n",
       "      <th>6</th>\n",
       "      <td>1</td>\n",
       "      <td>1287</td>\n",
       "      <td>5</td>\n",
       "    </tr>\n",
       "    <tr>\n",
       "      <th>7</th>\n",
       "      <td>1</td>\n",
       "      <td>2804</td>\n",
       "      <td>5</td>\n",
       "    </tr>\n",
       "    <tr>\n",
       "      <th>8</th>\n",
       "      <td>1</td>\n",
       "      <td>594</td>\n",
       "      <td>4</td>\n",
       "    </tr>\n",
       "    <tr>\n",
       "      <th>9</th>\n",
       "      <td>1</td>\n",
       "      <td>919</td>\n",
       "      <td>4</td>\n",
       "    </tr>\n",
       "    <tr>\n",
       "      <th>10</th>\n",
       "      <td>1</td>\n",
       "      <td>595</td>\n",
       "      <td>5</td>\n",
       "    </tr>\n",
       "    <tr>\n",
       "      <th>11</th>\n",
       "      <td>1</td>\n",
       "      <td>938</td>\n",
       "      <td>4</td>\n",
       "    </tr>\n",
       "    <tr>\n",
       "      <th>12</th>\n",
       "      <td>1</td>\n",
       "      <td>2398</td>\n",
       "      <td>4</td>\n",
       "    </tr>\n",
       "  </tbody>\n",
       "</table>\n",
       "</div>"
      ],
      "text/plain": [
       "    user_id  movie_id  rating\n",
       "0         1      1193       5\n",
       "3         1      3408       4\n",
       "4         1      2355       5\n",
       "6         1      1287       5\n",
       "7         1      2804       5\n",
       "8         1       594       4\n",
       "9         1       919       4\n",
       "10        1       595       5\n",
       "11        1       938       4\n",
       "12        1      2398       4"
      ]
     },
     "execution_count": 7,
     "metadata": {},
     "output_type": "execute_result"
    }
   ],
   "source": [
    "implicit_ratings.head(10)"
   ]
  },
  {
   "cell_type": "markdown",
   "metadata": {},
   "source": [
    "Удобнее работать с sparse матричками, давайте преобразуем DataFrame в CSR матрицы"
   ]
  },
  {
   "cell_type": "code",
   "execution_count": 8,
   "metadata": {},
   "outputs": [],
   "source": [
    "users = implicit_ratings[\"user_id\"]\n",
    "movies = implicit_ratings[\"movie_id\"]\n",
    "user_item = sp.coo_matrix((np.ones_like(users), (users, movies)))\n",
    "user_item_t_csr = user_item.T.tocsr()\n",
    "user_item_csr = user_item.tocsr()"
   ]
  },
  {
   "cell_type": "markdown",
   "metadata": {},
   "source": [
    "В качестве примера воспользуемся ALS разложением из библиотеки implicit\n",
    "\n",
    "Зададим размерность латентного пространства равным 64, это же определяет размер user/item эмбедингов"
   ]
  },
  {
   "cell_type": "code",
   "execution_count": 9,
   "metadata": {},
   "outputs": [],
   "source": [
    "# model = implicit.als.AlternatingLeastSquares(factors=64, iterations=100, calculate_training_loss=True)"
   ]
  },
  {
   "cell_type": "markdown",
   "metadata": {},
   "source": [
    "В качестве loss здесь всеми любимый RMSE"
   ]
  },
  {
   "cell_type": "code",
   "execution_count": 10,
   "metadata": {},
   "outputs": [],
   "source": [
    "# model.fit(user_item_t_csr)"
   ]
  },
  {
   "cell_type": "markdown",
   "metadata": {},
   "source": [
    "Построим похожие фильмы по 1 movie_id = Истории игрушек"
   ]
  },
  {
   "cell_type": "code",
   "execution_count": 11,
   "metadata": {},
   "outputs": [],
   "source": [
    "# movie_info.head(5)"
   ]
  },
  {
   "cell_type": "code",
   "execution_count": 12,
   "metadata": {},
   "outputs": [],
   "source": [
    "# get_similars = lambda item_id, model : [movie_info[movie_info[\"movie_id\"] == x[0]][\"name\"].to_string() \n",
    "#                                         for x in model.similar_items(item_id)]"
   ]
  },
  {
   "cell_type": "markdown",
   "metadata": {},
   "source": [
    "Как мы видим, симилары действительно оказались симиларами.\n",
    "\n",
    "Качество симиларов часто является хорошим способом проверить качество алгоритмов.\n",
    "\n",
    "P.S. Если хочется поглубже разобраться в том как разные алгоритмы формируют разные латентные пространства, рекомендую загружать полученные вектора в tensorBoard и смотреть на сформированное пространство"
   ]
  },
  {
   "cell_type": "code",
   "execution_count": 13,
   "metadata": {},
   "outputs": [],
   "source": [
    "# get_similars(1, model)"
   ]
  },
  {
   "cell_type": "markdown",
   "metadata": {},
   "source": [
    "Давайте теперь построим рекомендации для юзеров\n",
    "\n",
    "Как мы видим юзеру нравится фантастика, значит и в рекомендациях ожидаем увидеть фантастику"
   ]
  },
  {
   "cell_type": "code",
   "execution_count": 14,
   "metadata": {},
   "outputs": [],
   "source": [
    "# get_user_history = lambda user_id, implicit_ratings : [movie_info[movie_info[\"movie_id\"] == x][\"name\"].to_string() \n",
    "#                                             for x in implicit_ratings[implicit_ratings[\"user_id\"] == user_id][\"movie_id\"]]"
   ]
  },
  {
   "cell_type": "code",
   "execution_count": 15,
   "metadata": {},
   "outputs": [],
   "source": [
    "# get_user_history(4, implicit_ratings)"
   ]
  },
  {
   "cell_type": "markdown",
   "metadata": {},
   "source": [
    "Получилось! \n",
    "\n",
    "Мы действительно порекомендовали пользователю фантастику и боевики, более того встречаются продолжения тех фильмов, которые он высоко оценил"
   ]
  },
  {
   "cell_type": "code",
   "execution_count": 16,
   "metadata": {},
   "outputs": [],
   "source": [
    "# get_recommendations = lambda user_id, model : [movie_info[movie_info[\"movie_id\"] == x[0]][\"name\"].to_string() \n",
    "#                                                for x in model.recommend(user_id, user_item_csr)]"
   ]
  },
  {
   "cell_type": "code",
   "execution_count": 17,
   "metadata": {},
   "outputs": [],
   "source": [
    "# get_recommendations(4, model)"
   ]
  },
  {
   "cell_type": "markdown",
   "metadata": {},
   "source": [
    "Теперь ваша очередь реализовать самые популярные алгоритмы матричных разложений\n",
    "\n",
    "Что будет оцениваться:\n",
    "1. Корректность алгоритма\n",
    "2. Качество получившихся симиларов\n",
    "3. Качество итоговых рекомендаций для юзера"
   ]
  },
  {
   "cell_type": "code",
   "execution_count": 18,
   "metadata": {},
   "outputs": [],
   "source": [
    "def test_model(model, test_id=1, user_id=4, n=10):\n",
    "    target = movie_info[movie_info.movie_id == test_id]\n",
    "    sims_indxs = model.get_similar_items_indxs(test_id, n)\n",
    "\n",
    "    print(f'For {target.name.item()} ({target.category.item()}) found these {n} similiars):')\n",
    "    for indx in sims_indxs:\n",
    "            similar_item = movie_info[movie_info.movie_id == indx]\n",
    "            if len(similar_item) == 0:\n",
    "                print(\"movie doesn't exist\")\n",
    "            else:\n",
    "                print(f'\\t {similar_item.name.item()} ({similar_item.category.item()})')\n",
    "            \n",
    "    print('____________________________________________')\n",
    "\n",
    "    recs = model.recommend(user_id, n)\n",
    "    print(f\"For user {user_id} found these movies:\")\n",
    "    for idx in recs:\n",
    "            rec = movie_info[movie_info.movie_id == idx]\n",
    "            if len(rec) == 0:\n",
    "                print(\"movie doesn't exist\")\n",
    "            else:\n",
    "                print(f'\\t {rec.name.item()} ({rec.category.item()})')"
   ]
  },
  {
   "cell_type": "markdown",
   "metadata": {},
   "source": [
    "### Задание 1. Не использую готовые решения, реализовать SVD разложение используя SGD на explicit данных"
   ]
  },
  {
   "cell_type": "code",
   "execution_count": 19,
   "metadata": {},
   "outputs": [],
   "source": [
    "user_item_exp = sp.coo_matrix((ratings[\"rating\"], (ratings[\"user_id\"], ratings[\"movie_id\"])))"
   ]
  },
  {
   "cell_type": "code",
   "execution_count": 20,
   "metadata": {
    "scrolled": true
   },
   "outputs": [
    {
     "name": "stdout",
     "output_type": "stream",
     "text": [
      "Iter: 100, score: 0.9353352486953457\n",
      "Iter: 200, score: 0.9071451179754194\n",
      "Iter: 300, score: 0.8916444433343037\n",
      "Iter: 400, score: 0.8653709773786614\n",
      "Iter: 500, score: 0.834296803654223\n"
     ]
    }
   ],
   "source": [
    "model_svd = SVD(64, max_iters=500, lr=1e-4, verbose=100, lam=1e-3)\n",
    "model_svd.fit(user_item_exp);"
   ]
  },
  {
   "cell_type": "code",
   "execution_count": 21,
   "metadata": {},
   "outputs": [
    {
     "name": "stdout",
     "output_type": "stream",
     "text": [
      "For Toy Story (1995) (Animation|Children's|Comedy) found these 10 similiars):\n",
      "\t Toy Story (1995) (Animation|Children's|Comedy)\n",
      "\t Toy Story 2 (1999) (Animation|Children's|Comedy)\n",
      "\t Bug's Life, A (1998) (Animation|Children's|Comedy)\n",
      "\t Beauty and the Beast (1991) (Animation|Children's|Musical)\n",
      "\t Aladdin (1992) (Animation|Children's|Comedy|Musical)\n",
      "\t Little Mermaid, The (1989) (Animation|Children's|Comedy|Musical|Romance)\n",
      "\t Lion King, The (1994) (Animation|Children's|Musical)\n",
      "\t Untouchables, The (1987) (Action|Crime|Drama)\n",
      "\t Father of the Bride (1950) (Comedy)\n",
      "\t Charlotte's Web (1973) (Animation|Children's)\n",
      "____________________________________________\n",
      "For user 4 found these movies:\n",
      "\t Casablanca (1942) (Drama|Romance|War)\n",
      "\t Close Shave, A (1995) (Animation|Comedy|Thriller)\n",
      "\t Paths of Glory (1957) (Drama|War)\n",
      "\t Sunset Blvd. (a.k.a. Sunset Boulevard) (1950) (Film-Noir)\n",
      "\t Usual Suspects, The (1995) (Crime|Thriller)\n",
      "\t Wrong Trousers, The (1993) (Animation|Comedy)\n",
      "\t Dr. Strangelove or: How I Learned to Stop Worrying and Love the Bomb (1963) (Sci-Fi|War)\n",
      "\t Seven Samurai (The Magnificent Seven) (Shichinin no samurai) (1954) (Action|Drama)\n",
      "\t Godfather, The (1972) (Action|Crime|Drama)\n",
      "\t Sanjuro (1962) (Action|Adventure)\n"
     ]
    }
   ],
   "source": [
    "test_model(model_svd)"
   ]
  },
  {
   "cell_type": "code",
   "execution_count": null,
   "metadata": {},
   "outputs": [],
   "source": []
  },
  {
   "cell_type": "code",
   "execution_count": null,
   "metadata": {},
   "outputs": [],
   "source": []
  },
  {
   "cell_type": "markdown",
   "metadata": {},
   "source": [
    "### Задание 2. Не использую готовые решения, реализовать матричное разложение используя ALS на implicit данных"
   ]
  },
  {
   "cell_type": "code",
   "execution_count": 22,
   "metadata": {},
   "outputs": [
    {
     "name": "stdout",
     "output_type": "stream",
     "text": [
      "Iter: 2, score: 0.655510277563349\n",
      "Iter: 4, score: 0.6417459483121501\n",
      "Iter: 6, score: 0.6395552778758652\n",
      "Iter: 8, score: 0.6388635030771348\n",
      "Iter: 10, score: 0.6385687225089174\n",
      "Iter: 12, score: 0.638422092014349\n",
      "Iter: 14, score: 0.638342659649418\n",
      "For Toy Story (1995) (Animation|Children's|Comedy) found these 10 similiars):\n",
      "\t Toy Story (1995) (Animation|Children's|Comedy)\n",
      "\t Toy Story 2 (1999) (Animation|Children's|Comedy)\n",
      "\t Bug's Life, A (1998) (Animation|Children's|Comedy)\n",
      "\t Aladdin (1992) (Animation|Children's|Comedy|Musical)\n",
      "\t Babe (1995) (Children's|Comedy|Drama)\n",
      "\t Lion King, The (1994) (Animation|Children's|Musical)\n",
      "\t Hercules (1997) (Adventure|Animation|Children's|Comedy|Musical)\n",
      "\t Tarzan (1999) (Animation|Children's)\n",
      "\t Pleasantville (1998) (Comedy)\n",
      "\t Beauty and the Beast (1991) (Animation|Children's|Musical)\n",
      "____________________________________________\n",
      "For user 4 found these movies:\n",
      "\t Goldfinger (1964) (Action)\n",
      "\t Indiana Jones and the Last Crusade (1989) (Action|Adventure)\n",
      "\t Die Hard (1988) (Action|Thriller)\n",
      "\t Alien (1979) (Action|Horror|Sci-Fi|Thriller)\n",
      "\t Terminator, The (1984) (Action|Sci-Fi|Thriller)\n",
      "\t E.T. the Extra-Terrestrial (1982) (Children's|Drama|Fantasy|Sci-Fi)\n",
      "\t Saving Private Ryan (1998) (Action|Drama|War)\n",
      "\t Jaws (1975) (Action|Horror)\n",
      "\t Star Wars: Episode IV - A New Hope (1977) (Action|Adventure|Fantasy|Sci-Fi)\n",
      "\t Raiders of the Lost Ark (1981) (Action|Adventure)\n"
     ]
    }
   ],
   "source": [
    "model_als = ALS(64, max_iters=15, lr=1e-5, verbose=2, lam=1e-5)\n",
    "model_als.fit(user_item_csr)\n",
    "\n",
    "test_model(model_als)"
   ]
  },
  {
   "cell_type": "markdown",
   "metadata": {},
   "source": [
    "### Задание 3. Не использую готовые решения, реализовать матричное разложение BPR на implicit данных"
   ]
  },
  {
   "cell_type": "code",
   "execution_count": 23,
   "metadata": {},
   "outputs": [
    {
     "name": "stdout",
     "output_type": "stream",
     "text": [
      "Iter: 1000, score: 0.9119731469755307\n",
      "Iter: 2000, score: 0.8791850244806902\n",
      "Iter: 3000, score: 0.9076135471795086\n",
      "Iter: 4000, score: 0.9133044352288551\n",
      "Iter: 5000, score: 0.9007502908715451\n",
      "For Toy Story (1995) (Animation|Children's|Comedy) found these 10 similiars):\n",
      "\t Toy Story (1995) (Animation|Children's|Comedy)\n",
      "\t Toy Story 2 (1999) (Animation|Children's|Comedy)\n",
      "\t Harriet the Spy (1996) (Children's|Comedy)\n",
      "\t Babe (1995) (Children's|Comedy|Drama)\n",
      "\t Thumbelina (1994) (Animation|Children's)\n",
      "\t Jungle2Jungle (a.k.a. Jungle 2 Jungle) (1997) (Children's|Comedy)\n",
      "\t Hercules (1997) (Adventure|Animation|Children's|Comedy|Musical)\n",
      "\t Little Big League (1994) (Children's|Comedy)\n",
      "\t Mighty Morphin Power Rangers: The Movie (1995) (Action|Children's)\n",
      "\t Doug's 1st Movie (1999) (Animation|Children's)\n",
      "____________________________________________\n",
      "For user 4 found these movies:\n",
      "\t Star Wars: Episode V - The Empire Strikes Back (1980) (Action|Adventure|Drama|Sci-Fi|War)\n",
      "\t Good, The Bad and The Ugly, The (1966) (Action|Western)\n",
      "\t Alien (1979) (Action|Horror|Sci-Fi|Thriller)\n",
      "\t Aliens (1986) (Action|Sci-Fi|Thriller|War)\n",
      "\t Untouchables, The (1987) (Action|Crime|Drama)\n",
      "\t Star Wars: Episode IV - A New Hope (1977) (Action|Adventure|Fantasy|Sci-Fi)\n",
      "\t Rocky (1976) (Action|Drama)\n",
      "\t Godfather, The (1972) (Action|Crime|Drama)\n",
      "\t Raiders of the Lost Ark (1981) (Action|Adventure)\n",
      "\t Goldfinger (1964) (Action)\n"
     ]
    }
   ],
   "source": [
    "model_bpr = BPR(64, max_iters=int(5e3), lr=1e-1, verbose=1000, lam=1e-2)\n",
    "model_bpr.fit(user_item_csr, batch_size=2000)\n",
    "\n",
    "test_model(model_bpr)\n"
   ]
  },
  {
   "cell_type": "markdown",
   "metadata": {},
   "source": [
    "### Задание 4. Не использую готовые решения, реализовать матричное разложение WARP на implicit данных"
   ]
  },
  {
   "cell_type": "code",
   "execution_count": null,
   "metadata": {},
   "outputs": [],
   "source": []
  }
 ],
 "metadata": {
  "kernelspec": {
   "display_name": "Python 3",
   "language": "python",
   "name": "python3"
  },
  "language_info": {
   "codemirror_mode": {
    "name": "ipython",
    "version": 3
   },
   "file_extension": ".py",
   "mimetype": "text/x-python",
   "name": "python",
   "nbconvert_exporter": "python",
   "pygments_lexer": "ipython3",
   "version": "3.7.9"
  }
 },
 "nbformat": 4,
 "nbformat_minor": 2
}
